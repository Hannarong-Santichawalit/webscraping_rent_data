{
 "cells": [
  {
   "cell_type": "code",
   "execution_count": 3,
   "metadata": {},
   "outputs": [],
   "source": [
    "from selenium import webdriver\n",
    "from selenium.webdriver.chrome.service import Service\n",
    "from selenium.webdriver.common.by import By\n",
    "from selenium.webdriver.common.keys import Keys\n",
    "import time\n",
    "import random\n",
    "import bs4\n",
    "import pandas as pd\n",
    "import re\n",
    "import openpyxl"
   ]
  },
  {
   "cell_type": "code",
   "execution_count": 5,
   "metadata": {},
   "outputs": [],
   "source": [
    "service = Service(executable_path=\"D:\\Python\\webscraping\\chromedriver-win64\\chromedriver.exe\")\n",
    "driver = webdriver.Chrome(service=service)"
   ]
  },
  {
   "cell_type": "code",
   "execution_count": 6,
   "metadata": {},
   "outputs": [],
   "source": [
    "url = \"https://propertyhub.in.th/%E0%B9%80%E0%B8%8A%E0%B9%88%E0%B8%B2%E0%B8%84%E0%B8%AD%E0%B8%99%E0%B9%82%E0%B8%94\"\n",
    "driver.get(url)"
   ]
  },
  {
   "cell_type": "code",
   "execution_count": 7,
   "metadata": {},
   "outputs": [],
   "source": [
    "search = driver.find_element(By.XPATH, \"/html/body/div/div/div[1]/div[3]/div/div[1]/div/div\")\n",
    "search.click()\n",
    "time.sleep(random.uniform(1, 2))"
   ]
  },
  {
   "cell_type": "code",
   "execution_count": 8,
   "metadata": {},
   "outputs": [],
   "source": [
    "search_location = driver.find_element(By.XPATH, \"/html/body/reach-portal/div/div/div[2]/div[2]/div/form/div[1]/div/span/div/div/input\")\n",
    "search_location.click()\n",
    "time.sleep(random.uniform(1.5, 2))"
   ]
  },
  {
   "cell_type": "code",
   "execution_count": 9,
   "metadata": {},
   "outputs": [],
   "source": [
    "search_train = driver.find_element(By.XPATH, \"/html/body/reach-portal[2]/div/div/div/div/div[2]\")\n",
    "search_train.click()\n",
    "time.sleep(random.uniform(2, 3))"
   ]
  },
  {
   "cell_type": "code",
   "execution_count": 10,
   "metadata": {},
   "outputs": [],
   "source": [
    "green_train = driver.find_element(By.XPATH, \"/html/body/reach-portal[2]/div/div/div[2]/div[2]/div/div[2]/div[1]/div[2]/div[2]/div/div[2]/div[1]/div[2]\")\n",
    "green_train.click()\n",
    "time.sleep(random.uniform(1, 2))"
   ]
  },
  {
   "cell_type": "code",
   "execution_count": 11,
   "metadata": {},
   "outputs": [],
   "source": [
    "click_sena = driver.find_element(By.XPATH, \"/html/body/reach-portal[2]/div/div/div[2]/div[2]/div/div[2]/div[1]/div[2]/div[2]/section/div/div[13]\")\n",
    "click_sena.click()\n",
    "time.sleep(random.uniform(1, 2))"
   ]
  },
  {
   "cell_type": "code",
   "execution_count": 12,
   "metadata": {},
   "outputs": [],
   "source": [
    "click_ratyo = driver.find_element(By.XPATH, \"/html/body/reach-portal[2]/div/div/div[2]/div[2]/div/div[2]/div[1]/div[2]/div[2]/section/div/div[14]\")\n",
    "click_ratyo.click()\n",
    "time.sleep(random.uniform(2, 2.5))"
   ]
  },
  {
   "cell_type": "code",
   "execution_count": 13,
   "metadata": {},
   "outputs": [],
   "source": [
    "finish_location = driver.find_element(By.XPATH, \"/html/body/reach-portal[2]/div/div/div[2]/div[2]/div/div[3]/div[2]/button\")\n",
    "finish_location.click()\n",
    "time.sleep(random.uniform(1.5, 2.2))"
   ]
  },
  {
   "cell_type": "code",
   "execution_count": 14,
   "metadata": {},
   "outputs": [],
   "source": [
    "finish_search = driver.find_element(By.XPATH, \"/html/body/reach-portal/div/div/div[2]/div[2]/div/form/div[2]/button[2]\")\n",
    "finish_search.click()\n",
    "time.sleep(random.uniform(3.5, 4))"
   ]
  },
  {
   "cell_type": "code",
   "execution_count": 15,
   "metadata": {},
   "outputs": [],
   "source": [
    "data = driver.page_source\n",
    "\n",
    "soup = bs4.BeautifulSoup(data)"
   ]
  },
  {
   "cell_type": "code",
   "execution_count": 16,
   "metadata": {},
   "outputs": [
    {
     "name": "stdout",
     "output_type": "stream",
     "text": [
      "Found 60 products:\n",
      "['Knightsbridge Space Ratchayothinให้เช่า', 'Knightsbridge kaset - societyให้เช่า', 'Knightsbridge Prime Ratchayothinให้เช่า', 'Knightsbridge Prime Ratchayothinให้เช่า', 'Knightsbridge Prime Ratchayothinให้เช่า', 'D Mura Ratchayothinให้เช่า', 'Knightsbridge kaset - societyให้เช่า', 'Supalai Park Kasetให้เช่า', 'Aspire Ratchayothinให้เช่า', 'Knightsbridge Space Ratchayothinให้เช่า', 'D Mura Ratchayothinให้เช่า', 'Knightsbridge Prime Ratchayothinให้เช่า', 'Knightsbridge Space Ratchayothinให้เช่า', 'Mazarine Ratchayothinให้เช่า', 'Knightsbridge Prime Ratchayothinให้เช่า', 'Knightsbridge Space Ratchayothinให้เช่า', 'Supalai Park Kasetให้เช่า', 'D Mura Ratchayothinให้เช่า', 'Aspire Ratchayothinให้เช่า', 'The Selected Kaset - Ngamwongwanให้เช่า', 'Aspire Ratchayothinให้เช่า', 'Knightsbridge Space Ratchayothinให้เช่า', 'Knightsbridge Prime Ratchayothinให้เช่า', 'Vantage Ratchavipaให้เช่า', 'Chateau In Town Major Ratchayothinให้เช่า', 'D Mura Ratchayothinให้เช่า', 'D Mura Ratchayothinให้เช่า', 'Supalai Park Kasetให้เช่า', 'Chateau In Town Major Ratchayothinให้เช่า', 'Premsiri Boutique Parkให้เช่า', 'Supalai Park Kasetให้เช่า', 'Premio Vetroให้เช่า', 'Chateau In Town Major Ratchayothin 2ให้เช่า', 'Wind Ratchayothinให้เช่า', 'The Selected Kaset - Ngamwongwanให้เช่า', 'Chateau In Town Ratchayothinให้เช่า', 'Supalai Cute Ratchayothin - Phaholyothin 34ให้เช่า', 'Knightsbridge Prime Ratchayothinให้เช่า', 'Knightsbridge Space Ratchayothinให้เช่า', 'Knightsbridge Space Ratchayothinให้เช่า', 'The Waterford Royal Suiteให้เช่า', 'Lumpini Place Ratchayothinให้เช่า', 'Supalai City Resort Ratchayothin - Phaholyothin 32ให้เช่า', 'Wind Ratchayothinให้เช่า', 'Aspire Ratchayothinให้เช่า', 'D Mura Ratchayothinให้เช่า', 'Knightsbridge Prime Ratchayothinให้เช่า', 'Knightsbridge Prime Ratchayothinให้เช่า', 'Miti Chiva Kaset Stationให้เช่า', 'Aspire Ratchayothinให้เช่า', 'Premio Vetroให้เช่า', 'Aspire Ratchayothinให้เช่า', 'Aspire Ratchayothinให้เช่า', 'Miti Chiva Kaset Stationให้เช่า', 'Supalai Park Kasetให้เช่า', 'Knightsbridge Prime Ratchayothinให้เช่า', 'Knightsbridge Prime Ratchayothinให้เช่า', 'Chateau In Town Ratchayothinให้เช่า', 'Supalai City Resort Ratchayothin - Phaholyothin 32ให้เช่า', 'Miti Chiva Kaset Stationให้เช่า']\n"
     ]
    }
   ],
   "source": [
    "# product\n",
    "all_product = soup.find_all('a', {'class':'sc-15whpuu-7 iivFKn'})\n",
    "print(f\"Found {len(all_product)} products:\")\n",
    "\n",
    "all_product_list = []\n",
    "for product in all_product:\n",
    "    all_product_list.append(product.text)\n",
    "print(all_product_list)"
   ]
  },
  {
   "cell_type": "code",
   "execution_count": 17,
   "metadata": {},
   "outputs": [
    {
     "name": "stdout",
     "output_type": "stream",
     "text": [
      "Found 60 price:\n",
      "['฿25,000', '฿25,000', '฿13,500', '฿20,000', '฿18,500', '฿10,000', '฿16,000', '฿12,000', '฿12,500', '฿25,000', '฿21,000', '฿15,000', '฿25,000', '฿15,000', '฿15,000', '฿23,000', '฿12,000', '฿19,000', '฿14,999', '฿16,499', '฿12,999', '฿28,000', '฿34,000', '฿12,000', '฿9,000', '฿20,000', '฿12,000', '฿12,000', '฿14,000', '฿14,000', '฿12,000', '฿13,000', '฿9,500', '฿15,000', '฿20,000', '฿14,000', '฿10,000', '฿20,000', '฿23,000', '฿28,000', '฿9,000', '฿12,000', '฿8,500', '฿15,000', '฿14,500', '฿20,000', '฿20,000', '฿19,000', '฿22,000', '฿14,000', '฿13,000', '฿16,000', '฿15,800', '฿22,000', '฿11,000', '฿18,000', '฿34,000', '฿17,000', '฿12,000', '฿22,999']\n"
     ]
    }
   ],
   "source": [
    "# price\n",
    "all_price = soup.find_all('span', {'class':'sc-1sw1bsk-30 gbYGMp'})\n",
    "print(f\"Found {len(all_price)} price:\")\n",
    "\n",
    "all_price_list = []\n",
    "for price in all_price:\n",
    "    all_price_list.append(price.text)\n",
    "print(all_price_list)"
   ]
  },
  {
   "cell_type": "code",
   "execution_count": 18,
   "metadata": {},
   "outputs": [
    {
     "name": "stdout",
     "output_type": "stream",
     "text": [
      "Found 60 size:\n",
      "['1 นอน1 น้ำชั้น 1840 ตร.ม.', '1 นอน1 น้ำชั้น 1836.5 ตร.ม.', '1 นอน1 น้ำชั้น 1923 ตร.ม.', '1 นอน1 น้ำชั้น 2730 ตร.ม.', '1 นอน1 น้ำชั้น 2133 ตร.ม.', '1 นอน1 น้ำชั้น 831 ตร.ม.', '1 นอน1 น้ำชั้น 627 ตร.ม.', '1 นอน1 น้ำชั้น 2052 ตร.ม.', '1 นอน1 น้ำชั้น 726 ตร.ม.', '1 นอน1 น้ำชั้น 2937 ตร.ม.', '2 นอน1 น้ำชั้น 264 ตร.ม.', '1 นอน1 น้ำชั้น 3428 ตร.ม.', '1 นอน1 น้ำชั้น 2837 ตร.ม.', '1 นอน1 น้ำชั้น 1125 ตร.ม.', '1 นอน1 น้ำชั้น 2628 ตร.ม.', '1 นอน1 น้ำชั้น 3131 ตร.ม.', '1 นอน1 น้ำชั้น 2052 ตร.ม.', '2 นอน1 น้ำชั้น 264 ตร.ม.', '1 นอน1 น้ำชั้น 428.9 ตร.ม.', '1 นอน1 น้ำชั้น 934.5 ตร.ม.', '1 น้ำชั้น 526.68 ตร.ม.', '1 นอน1 น้ำชั้น 2537 ตร.ม.', '2 นอน2 น้ำชั้น 3053 ตร.ม.', '1 นอน1 น้ำชั้น 3030 ตร.ม.', '1 นอน1 น้ำชั้น 230 ตร.ม.', '2 นอน2 น้ำชั้น 254 ตร.ม.', '1 นอน1 น้ำชั้น -31.3 ตร.ม.', '1 นอน1 น้ำชั้น 2050 ตร.ม.', '1 นอน1 น้ำชั้น 435 ตร.ม.', '2 นอน2 น้ำชั้น 856 ตร.ม.', '1 นอน1 น้ำชั้น 2052 ตร.ม.', '1 นอน1 น้ำชั้น 726 ตร.ม.', '1 นอน1 น้ำชั้น 429 ตร.ม.', '1 นอน1 น้ำชั้น 1040.25 ตร.ม.', '2 นอน1 น้ำชั้น 541 ตร.ม.', '1 นอน1 น้ำชั้น 435 ตร.ม.', '1 นอน1 น้ำชั้น 441 ตร.ม.', '1 นอน1 น้ำชั้น 1632 ตร.ม.', '1 นอน1 น้ำชั้น 2530 ตร.ม.', '1 นอน1 น้ำชั้น 3037 ตร.ม.', '1 นอน1 น้ำชั้น 631 ตร.ม.', '1 นอน1 น้ำชั้น 1628 ตร.ม.', '1 น้ำชั้น 432 ตร.ม.', '1 นอน1 น้ำชั้น 1040 ตร.ม.', '1 นอน1 น้ำชั้น 428.9 ตร.ม.', '1 นอน1 น้ำชั้น 631 ตร.ม.', '1 นอน1 น้ำชั้น 2134 ตร.ม.', '1 นอน1 น้ำชั้น 3328 ตร.ม.', '1 นอน1 น้ำชั้น 1235 ตร.ม.', '1 นอน1 น้ำชั้น 329 ตร.ม.', '1 นอน1 น้ำชั้น 726 ตร.ม.', '1 นอน1 น้ำชั้น 629 ตร.ม.', '1 นอน1 น้ำชั้น 529 ตร.ม.', '1 นอน1 น้ำชั้น 1235 ตร.ม.', '1 นอน1 น้ำชั้น 452 ตร.ม.', '1 นอน1 น้ำชั้น 2826 ตร.ม.', '2 นอน2 น้ำชั้น 3053 ตร.ม.', '1 นอน1 น้ำชั้น 535 ตร.ม.', '1 นอน1 น้ำชั้น 850 ตร.ม.', '2 นอน1 น้ำชั้น 2034.5 ตร.ม.']\n"
     ]
    }
   ],
   "source": [
    "# size\n",
    "all_size = soup.find_all('div', {\"class\":'sc-1sw1bsk-16 iPpyJO'})\n",
    "print(f\"Found {len(all_size)} size:\")\n",
    "\n",
    "all_size_list = []\n",
    "for size in all_size:\n",
    "    all_size_list.append(size.text)\n",
    "print(all_size_list)"
   ]
  },
  {
   "cell_type": "code",
   "execution_count": 19,
   "metadata": {},
   "outputs": [
    {
     "name": "stdout",
     "output_type": "stream",
     "text": [
      "Found 60 date:\n",
      "['เลื่อนประกาศ  :08/07/2024 7:30UPDATE !', 'เลื่อนประกาศ  :12/07/2024 16:23UPDATE !', 'เลื่อนประกาศ  :16/07/2024 17:33UPDATE !', 'เลื่อนประกาศ  :16/07/2024 17:36NEW !', 'เลื่อนประกาศ  :16/07/2024 17:34UPDATE !', 'เลื่อนประกาศ  :16/07/2024 17:45NEW !', 'เลื่อนประกาศ  :16/07/2024 17:43UPDATE !', 'เลื่อนประกาศ  :16/07/2024 17:39NEW !', 'เลื่อนประกาศ  :16/07/2024 17:37NEW !', 'เลื่อนประกาศ  :16/07/2024 17:34UPDATE !', 'เลื่อนประกาศ  :16/07/2024 17:32UPDATE !', 'เลื่อนประกาศ  :16/07/2024 17:08UPDATE !', 'เลื่อนประกาศ  :16/07/2024 17:08UPDATE !', 'เลื่อนประกาศ  :16/07/2024 17:08UPDATE !', 'เลื่อนประกาศ  :16/07/2024 17:08UPDATE !', 'เลื่อนประกาศ  :16/07/2024 17:08UPDATE !', 'เลื่อนประกาศ  :16/07/2024 17:02NEW !', 'เลื่อนประกาศ  :16/07/2024 17:00UPDATE !', 'เลื่อนประกาศ  :16/07/2024 17:00UPDATE !', 'เลื่อนประกาศ  :16/07/2024 17:00UPDATE !', 'เลื่อนประกาศ  :16/07/2024 17:00UPDATE !', 'เลื่อนประกาศ  :16/07/2024 17:00UPDATE !', 'เลื่อนประกาศ  :16/07/2024 17:00UPDATE !', 'เลื่อนประกาศ  :16/07/2024 17:00UPDATE !', 'เลื่อนประกาศ  :16/07/2024 17:00UPDATE !', 'เลื่อนประกาศ  :16/07/2024 16:58UPDATE !', 'เลื่อนประกาศ  :16/07/2024 16:58NEW !', 'เลื่อนประกาศ  :16/07/2024 16:58NEW !', 'เลื่อนประกาศ  :16/07/2024 16:58UPDATE !', 'เลื่อนประกาศ  :16/07/2024 16:58NEW !', 'เลื่อนประกาศ  :16/07/2024 16:48NEW !', 'เลื่อนประกาศ  :16/07/2024 16:17UPDATE !', 'เลื่อนประกาศ  :16/07/2024 16:02UPDATE !', 'เลื่อนประกาศ  :16/07/2024 16:02UPDATE !', 'เลื่อนประกาศ  :16/07/2024 16:02UPDATE !', 'เลื่อนประกาศ  :16/07/2024 16:02NEW !', 'เลื่อนประกาศ  :16/07/2024 16:02UPDATE !', 'เลื่อนประกาศ  :16/07/2024 16:02NEW !', 'เลื่อนประกาศ  :16/07/2024 16:02UPDATE !', 'เลื่อนประกาศ  :16/07/2024 16:02UPDATE !', 'เลื่อนประกาศ  :16/07/2024 16:02UPDATE !', 'เลื่อนประกาศ  :16/07/2024 16:02UPDATE !', 'เลื่อนประกาศ  :16/07/2024 16:02UPDATE !', 'เลื่อนประกาศ  :16/07/2024 16:02UPDATE !', 'เลื่อนประกาศ  :16/07/2024 16:02UPDATE !', 'เลื่อนประกาศ  :16/07/2024 16:02NEW !', 'เลื่อนประกาศ  :16/07/2024 16:01UPDATE !', 'เลื่อนประกาศ  :16/07/2024 16:01UPDATE !', 'เลื่อนประกาศ  :16/07/2024 16:01NEW !', 'เลื่อนประกาศ  :16/07/2024 16:01UPDATE !', 'เลื่อนประกาศ  :16/07/2024 16:01UPDATE !', 'เลื่อนประกาศ  :16/07/2024 16:01UPDATE !', 'เลื่อนประกาศ  :16/07/2024 16:00UPDATE !', 'เลื่อนประกาศ  :16/07/2024 16:00UPDATE !', 'เลื่อนประกาศ  :16/07/2024 15:59UPDATE !', 'เลื่อนประกาศ  :16/07/2024 15:59UPDATE !', 'เลื่อนประกาศ  :16/07/2024 15:59UPDATE !', 'เลื่อนประกาศ  :16/07/2024 15:46UPDATE !', 'เลื่อนประกาศ  :16/07/2024 15:44UPDATE !', 'เลื่อนประกาศ  :16/07/2024 15:42NEW !']\n"
     ]
    }
   ],
   "source": [
    "# date\n",
    "all_date = soup.find_all('div', {\"class\":'sc-15whpuu-12 bgRogR'})\n",
    "print(f\"Found {len(all_date)} date:\")\n",
    "\n",
    "all_date_list = []\n",
    "for date in all_date:\n",
    "    all_date_list.append(date.text)\n",
    "print(all_date_list)"
   ]
  },
  {
   "cell_type": "code",
   "execution_count": 20,
   "metadata": {},
   "outputs": [],
   "source": [
    "# Create the DataFrame\n",
    "propertyhub_data = pd.DataFrame({\n",
    "    \"product\": all_product_list,\n",
    "    \"price\": all_price_list,\n",
    "    \"detail\": all_size_list,\n",
    "    \"date\": all_date_list\n",
    "})"
   ]
  },
  {
   "cell_type": "code",
   "execution_count": 21,
   "metadata": {},
   "outputs": [],
   "source": [
    "# Function to extract bedroom, bathroom, floor, and size from detail column\n",
    "def extract_details(detail):\n",
    "    bedroom = re.search(r\"(\\d+) นอน\", detail)\n",
    "    bathroom = re.search(r\"(\\d+) น้ำ\", detail)\n",
    "    \n",
    "    # Extract the full floor and size info\n",
    "    floor_match = re.search(r\"ชั้น (\\d+)\", detail)\n",
    "    size_match = re.search(r\"(\\d+\\.?\\d*) ตร\\.ม\\.\", detail)\n",
    "    \n",
    "    if floor_match:\n",
    "        # Extract floor from the match, considering multiple digits\n",
    "        full_floor = floor_match.group(1)\n",
    "        floor = full_floor[:2]  # Take the first 1 or 2 digits as the floor\n",
    "    else:\n",
    "        floor = None\n",
    "    \n",
    "    if size_match:\n",
    "        size = size_match.group(1)  # Extract the size as a floating-point number if available\n",
    "    else:\n",
    "        size = None\n",
    "    \n",
    "    return [\n",
    "        bedroom.group(1) if bedroom else None,\n",
    "        bathroom.group(1) if bathroom else None,\n",
    "        floor,\n",
    "        size\n",
    "    ]"
   ]
  },
  {
   "cell_type": "code",
   "execution_count": 22,
   "metadata": {},
   "outputs": [],
   "source": [
    "# Apply the extraction function to the detail column\n",
    "propertyhub_data[[\"bedroom\", \"bathroom\", \"floor\", \"size\"]] = propertyhub_data[\"detail\"].apply(lambda x: pd.Series(extract_details(x)))"
   ]
  },
  {
   "cell_type": "code",
   "execution_count": 23,
   "metadata": {},
   "outputs": [],
   "source": [
    "# Function to clean date column\n",
    "def clean_date(date):\n",
    "    cleaned_date = re.search(r\"\\d{2}/\\d{2}/\\d{4}\", date)\n",
    "    return cleaned_date.group(0) if cleaned_date else None"
   ]
  },
  {
   "cell_type": "code",
   "execution_count": 24,
   "metadata": {},
   "outputs": [],
   "source": [
    "# Apply the cleaning function to the date column\n",
    "propertyhub_data[\"date\"] = propertyhub_data[\"date\"].apply(clean_date)\n",
    "\n",
    "# Drop the original detail column\n",
    "propertyhub_data.drop(columns=[\"detail\"], inplace=True)"
   ]
  },
  {
   "cell_type": "code",
   "execution_count": 25,
   "metadata": {},
   "outputs": [
    {
     "name": "stdout",
     "output_type": "stream",
     "text": [
      "                                              product    price        date  \\\n",
      "0             Knightsbridge Space Ratchayothinให้เช่า  ฿25,000  08/07/2024   \n",
      "1                Knightsbridge kaset - societyให้เช่า  ฿25,000  12/07/2024   \n",
      "2             Knightsbridge Prime Ratchayothinให้เช่า  ฿13,500  16/07/2024   \n",
      "3             Knightsbridge Prime Ratchayothinให้เช่า  ฿20,000  16/07/2024   \n",
      "4             Knightsbridge Prime Ratchayothinให้เช่า  ฿18,500  16/07/2024   \n",
      "5                          D Mura Ratchayothinให้เช่า  ฿10,000  16/07/2024   \n",
      "6                Knightsbridge kaset - societyให้เช่า  ฿16,000  16/07/2024   \n",
      "7                           Supalai Park Kasetให้เช่า  ฿12,000  16/07/2024   \n",
      "8                          Aspire Ratchayothinให้เช่า  ฿12,500  16/07/2024   \n",
      "9             Knightsbridge Space Ratchayothinให้เช่า  ฿25,000  16/07/2024   \n",
      "10                         D Mura Ratchayothinให้เช่า  ฿21,000  16/07/2024   \n",
      "11            Knightsbridge Prime Ratchayothinให้เช่า  ฿15,000  16/07/2024   \n",
      "12            Knightsbridge Space Ratchayothinให้เช่า  ฿25,000  16/07/2024   \n",
      "13                       Mazarine Ratchayothinให้เช่า  ฿15,000  16/07/2024   \n",
      "14            Knightsbridge Prime Ratchayothinให้เช่า  ฿15,000  16/07/2024   \n",
      "15            Knightsbridge Space Ratchayothinให้เช่า  ฿23,000  16/07/2024   \n",
      "16                          Supalai Park Kasetให้เช่า  ฿12,000  16/07/2024   \n",
      "17                         D Mura Ratchayothinให้เช่า  ฿19,000  16/07/2024   \n",
      "18                         Aspire Ratchayothinให้เช่า  ฿14,999  16/07/2024   \n",
      "19            The Selected Kaset - Ngamwongwanให้เช่า  ฿16,499  16/07/2024   \n",
      "20                         Aspire Ratchayothinให้เช่า  ฿12,999  16/07/2024   \n",
      "21            Knightsbridge Space Ratchayothinให้เช่า  ฿28,000  16/07/2024   \n",
      "22            Knightsbridge Prime Ratchayothinให้เช่า  ฿34,000  16/07/2024   \n",
      "23                          Vantage Ratchavipaให้เช่า  ฿12,000  16/07/2024   \n",
      "24          Chateau In Town Major Ratchayothinให้เช่า   ฿9,000  16/07/2024   \n",
      "25                         D Mura Ratchayothinให้เช่า  ฿20,000  16/07/2024   \n",
      "26                         D Mura Ratchayothinให้เช่า  ฿12,000  16/07/2024   \n",
      "27                          Supalai Park Kasetให้เช่า  ฿12,000  16/07/2024   \n",
      "28          Chateau In Town Major Ratchayothinให้เช่า  ฿14,000  16/07/2024   \n",
      "29                      Premsiri Boutique Parkให้เช่า  ฿14,000  16/07/2024   \n",
      "30                          Supalai Park Kasetให้เช่า  ฿12,000  16/07/2024   \n",
      "31                                Premio Vetroให้เช่า  ฿13,000  16/07/2024   \n",
      "32        Chateau In Town Major Ratchayothin 2ให้เช่า   ฿9,500  16/07/2024   \n",
      "33                           Wind Ratchayothinให้เช่า  ฿15,000  16/07/2024   \n",
      "34            The Selected Kaset - Ngamwongwanให้เช่า  ฿20,000  16/07/2024   \n",
      "35                Chateau In Town Ratchayothinให้เช่า  ฿14,000  16/07/2024   \n",
      "36  Supalai Cute Ratchayothin - Phaholyothin 34ให้...  ฿10,000  16/07/2024   \n",
      "37            Knightsbridge Prime Ratchayothinให้เช่า  ฿20,000  16/07/2024   \n",
      "38            Knightsbridge Space Ratchayothinให้เช่า  ฿23,000  16/07/2024   \n",
      "39            Knightsbridge Space Ratchayothinให้เช่า  ฿28,000  16/07/2024   \n",
      "40                   The Waterford Royal Suiteให้เช่า   ฿9,000  16/07/2024   \n",
      "41                  Lumpini Place Ratchayothinให้เช่า  ฿12,000  16/07/2024   \n",
      "42  Supalai City Resort Ratchayothin - Phaholyothi...   ฿8,500  16/07/2024   \n",
      "43                           Wind Ratchayothinให้เช่า  ฿15,000  16/07/2024   \n",
      "44                         Aspire Ratchayothinให้เช่า  ฿14,500  16/07/2024   \n",
      "45                         D Mura Ratchayothinให้เช่า  ฿20,000  16/07/2024   \n",
      "46            Knightsbridge Prime Ratchayothinให้เช่า  ฿20,000  16/07/2024   \n",
      "47            Knightsbridge Prime Ratchayothinให้เช่า  ฿19,000  16/07/2024   \n",
      "48                    Miti Chiva Kaset Stationให้เช่า  ฿22,000  16/07/2024   \n",
      "49                         Aspire Ratchayothinให้เช่า  ฿14,000  16/07/2024   \n",
      "50                                Premio Vetroให้เช่า  ฿13,000  16/07/2024   \n",
      "51                         Aspire Ratchayothinให้เช่า  ฿16,000  16/07/2024   \n",
      "52                         Aspire Ratchayothinให้เช่า  ฿15,800  16/07/2024   \n",
      "53                    Miti Chiva Kaset Stationให้เช่า  ฿22,000  16/07/2024   \n",
      "54                          Supalai Park Kasetให้เช่า  ฿11,000  16/07/2024   \n",
      "55            Knightsbridge Prime Ratchayothinให้เช่า  ฿18,000  16/07/2024   \n",
      "56            Knightsbridge Prime Ratchayothinให้เช่า  ฿34,000  16/07/2024   \n",
      "57                Chateau In Town Ratchayothinให้เช่า  ฿17,000  16/07/2024   \n",
      "58  Supalai City Resort Ratchayothin - Phaholyothi...  ฿12,000  16/07/2024   \n",
      "59                    Miti Chiva Kaset Stationให้เช่า  ฿22,999  16/07/2024   \n",
      "\n",
      "   bedroom bathroom floor     size  \n",
      "0        1        1    18     1840  \n",
      "1        1        1    18   1836.5  \n",
      "2        1        1    19     1923  \n",
      "3        1        1    27     2730  \n",
      "4        1        1    21     2133  \n",
      "5        1        1    83      831  \n",
      "6        1        1    62      627  \n",
      "7        1        1    20     2052  \n",
      "8        1        1    72      726  \n",
      "9        1        1    29     2937  \n",
      "10       2        1    26      264  \n",
      "11       1        1    34     3428  \n",
      "12       1        1    28     2837  \n",
      "13       1        1    11     1125  \n",
      "14       1        1    26     2628  \n",
      "15       1        1    31     3131  \n",
      "16       1        1    20     2052  \n",
      "17       2        1    26      264  \n",
      "18       1        1    42    428.9  \n",
      "19       1        1    93    934.5  \n",
      "20    None        1    52   526.68  \n",
      "21       1        1    25     2537  \n",
      "22       2        2    30     3053  \n",
      "23       1        1    30     3030  \n",
      "24       1        1    23      230  \n",
      "25       2        2    25      254  \n",
      "26       1        1  None     31.3  \n",
      "27       1        1    20     2050  \n",
      "28       1        1    43      435  \n",
      "29       2        2    85      856  \n",
      "30       1        1    20     2052  \n",
      "31       1        1    72      726  \n",
      "32       1        1    42      429  \n",
      "33       1        1    10  1040.25  \n",
      "34       2        1    54      541  \n",
      "35       1        1    43      435  \n",
      "36       1        1    44      441  \n",
      "37       1        1    16     1632  \n",
      "38       1        1    25     2530  \n",
      "39       1        1    30     3037  \n",
      "40       1        1    63      631  \n",
      "41       1        1    16     1628  \n",
      "42    None        1    43      432  \n",
      "43       1        1    10     1040  \n",
      "44       1        1    42    428.9  \n",
      "45       1        1    63      631  \n",
      "46       1        1    21     2134  \n",
      "47       1        1    33     3328  \n",
      "48       1        1    12     1235  \n",
      "49       1        1    32      329  \n",
      "50       1        1    72      726  \n",
      "51       1        1    62      629  \n",
      "52       1        1    52      529  \n",
      "53       1        1    12     1235  \n",
      "54       1        1    45      452  \n",
      "55       1        1    28     2826  \n",
      "56       2        2    30     3053  \n",
      "57       1        1    53      535  \n",
      "58       1        1    85      850  \n",
      "59       2        1    20   2034.5  \n"
     ]
    }
   ],
   "source": [
    "print(propertyhub_data)\n"
   ]
  },
  {
   "cell_type": "code",
   "execution_count": 26,
   "metadata": {},
   "outputs": [],
   "source": [
    "propertyhub_data.to_excel(r'D:\\Python\\propertyhub_rent_senaRatyo.xlsx')"
   ]
  },
  {
   "cell_type": "code",
   "execution_count": null,
   "metadata": {},
   "outputs": [],
   "source": []
  }
 ],
 "metadata": {
  "kernelspec": {
   "display_name": "Python 3",
   "language": "python",
   "name": "python3"
  },
  "language_info": {
   "codemirror_mode": {
    "name": "ipython",
    "version": 3
   },
   "file_extension": ".py",
   "mimetype": "text/x-python",
   "name": "python",
   "nbconvert_exporter": "python",
   "pygments_lexer": "ipython3",
   "version": "3.10.8"
  }
 },
 "nbformat": 4,
 "nbformat_minor": 2
}
