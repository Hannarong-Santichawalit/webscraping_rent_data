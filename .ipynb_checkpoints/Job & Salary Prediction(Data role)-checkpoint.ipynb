{
 "cells": [
  {
   "cell_type": "markdown",
   "id": "a9989e4d-08fe-43fb-a6dc-32a24fbd3088",
   "metadata": {},
   "source": [
    "# 1. Import Libraries"
   ]
  },
  {
   "cell_type": "code",
   "execution_count": null,
   "id": "6646281d-193a-4c4d-ba36-78b769f3206e",
   "metadata": {},
   "outputs": [],
   "source": [
    "import numpy as np # Numeric\n",
    "import pandas as pd # table\n",
    "from datetime import datetime # date \n",
    "import matplotlib.pyplot as plt # Visualization\n",
    "import seaborn as sns # Visualization\n",
    "import sklearn # ML\n",
    "from forex_python.converter import CurrencyRates # CurrencyRates"
   ]
  },
  {
   "cell_type": "markdown",
   "id": "38b902f7-dd2f-4738-91d5-5d7189319986",
   "metadata": {},
   "source": [
    "# 2. Loading data"
   ]
  },
  {
   "cell_type": "code",
   "execution_count": null,
   "id": "ab830a99-c5bd-481f-860b-63613f509f09",
   "metadata": {},
   "outputs": [],
   "source": [
    "# Import csv file\n",
    "df = pd.read_csv(\"Data_Science_Fields_Salary_Categorization.csv\")"
   ]
  },
  {
   "cell_type": "markdown",
   "id": "f54287a8-7159-4057-bd76-dfa38bcc0acc",
   "metadata": {},
   "source": [
    "# 3. Data Check"
   ]
  },
  {
   "cell_type": "code",
   "execution_count": null,
   "id": "8de1c33b-7e8d-408b-98a5-a6130fd1e902",
   "metadata": {},
   "outputs": [],
   "source": [
    "# Get information\n",
    "df.info()"
   ]
  },
  {
   "cell_type": "code",
   "execution_count": null,
   "id": "c3d4e790-7eb5-470a-8a0f-d4ceb14e8063",
   "metadata": {},
   "outputs": [],
   "source": [
    "# Check header column\n",
    "df.columns"
   ]
  },
  {
   "cell_type": "code",
   "execution_count": null,
   "id": "5d58e5c9-67c3-40b3-aaf8-e01d9024ad8b",
   "metadata": {},
   "outputs": [],
   "source": [
    "# Check first 10 data row\n",
    "df.head(10)"
   ]
  },
  {
   "cell_type": "code",
   "execution_count": null,
   "id": "4c9826d1-1ac6-490d-ba7c-fbac95a51206",
   "metadata": {
    "scrolled": true
   },
   "outputs": [],
   "source": [
    "# Check for any missing values\n",
    "df.isnull().sum()"
   ]
  },
  {
   "cell_type": "markdown",
   "id": "02a39cbc-4622-44dc-a5b0-8c0183b0d425",
   "metadata": {},
   "source": [
    "# 4. Data Cleaning"
   ]
  },
  {
   "cell_type": "code",
   "execution_count": null,
   "id": "42617cdf-5bd2-4350-aa3b-55e40f124e53",
   "metadata": {},
   "outputs": [],
   "source": [
    "# Convert all column names to lowercase\n",
    "df.columns = df.columns.str.lower()\n",
    "df"
   ]
  },
  {
   "cell_type": "code",
   "execution_count": null,
   "id": "9d842a17-c002-4760-9039-7872aa41bb91",
   "metadata": {},
   "outputs": [],
   "source": [
    "# Drop unused column\n",
    "df = df.drop(columns=['unnamed: 0'])"
   ]
  },
  {
   "cell_type": "code",
   "execution_count": null,
   "id": "a302ef91-89f4-4c5c-8db2-01d731190a4e",
   "metadata": {},
   "outputs": [],
   "source": [
    "# Replace values in Designation\n",
    "def title_job(title):\n",
    "    if 'data scientist' in title.lower() or 'machine learning' in title.lower():\n",
    "        return 'data scientist'\n",
    "    elif 'data engineer' in title.lower():\n",
    "        return 'data engineer'\n",
    "    elif 'analyst' in title.lower() or 'analytic' in title.lower() or 'bi' in title.lower():\n",
    "        return 'data analyst'\n",
    "    else:\n",
    "        return 'other'\n",
    "\n",
    "df['job_role'] = df['designation'].apply(title_job)\n",
    "\n",
    "df = df.drop(columns=['designation'])"
   ]
  },
  {
   "cell_type": "code",
   "execution_count": null,
   "id": "517e6815-4ace-426b-87ee-d40e5b26755b",
   "metadata": {},
   "outputs": [],
   "source": [
    "# Check unique value in Experience column\n",
    "unique_experience = df['experience'].unique()\n",
    "print(unique_experience)"
   ]
  },
  {
   "cell_type": "code",
   "execution_count": null,
   "id": "46fc9005-a9e9-4cf8-9069-f3ae4fa3ada7",
   "metadata": {},
   "outputs": [],
   "source": [
    "#  Replace values in experience-level column\n",
    "df['experience'] = df['experience'].replace('EN', 'Entry-Level')\n",
    "df['experience'] = df['experience'].replace('EX', 'Experienced')\n",
    "df['experience'] = df['experience'].replace('MI', 'Mid-Level')\n",
    "df['experience'] = df['experience'].replace('SE', 'Senior')"
   ]
  },
  {
   "cell_type": "code",
   "execution_count": null,
   "id": "825584e2-ddf9-4ab6-87ac-035b80d95f65",
   "metadata": {},
   "outputs": [],
   "source": [
    "# Check unique value in Employment_Status column\n",
    "unique_employment_status = df['employment_status'].unique()\n",
    "print(unique_employment_status)"
   ]
  },
  {
   "cell_type": "code",
   "execution_count": null,
   "id": "f9af13ff-d369-48e0-91f5-eb22ae387f8a",
   "metadata": {},
   "outputs": [],
   "source": [
    "#Replace values in employment_type column\n",
    "df['employment_status'] = df['employment_status'].replace('FT', 'Full-Time')\n",
    "df['employment_status'] = df['employment_status'].replace('CT', 'Contractor')\n",
    "df['employment_status'] = df['employment_status'].replace('FL', 'Freelancer')\n",
    "df['employment_status'] = df['employment_status'].replace('PT', 'Part-Time')"
   ]
  },
  {
   "cell_type": "code",
   "execution_count": null,
   "id": "5df8dcf6-0458-4891-a80e-1f51470d743f",
   "metadata": {},
   "outputs": [],
   "source": [
    "# Check unique value in company_size column\n",
    "unique_company_size = df['company_size'].unique()\n",
    "print(unique_company_size)"
   ]
  },
  {
   "cell_type": "code",
   "execution_count": null,
   "id": "da490169-dd06-4588-b542-6ea0838f1a10",
   "metadata": {},
   "outputs": [],
   "source": [
    "#Replace values in Company size column\n",
    "df['company_size'] = df['company_size'].replace('L', \"Large\")\n",
    "df['company_size'] = df['company_size'].replace('M', \"Medium\")\n",
    "df['company_size'] = df['company_size'].replace('S', \"Small\")"
   ]
  },
  {
   "cell_type": "code",
   "execution_count": null,
   "id": "5676a8e4-2b4e-40e6-bbc6-9a7af5b6b8ea",
   "metadata": {},
   "outputs": [],
   "source": [
    "# Create a CurrencyRates object\n",
    "c = CurrencyRates()\n",
    "\n",
    "# Convert salary from INR to THB\n",
    "conversion_rate = c.convert('INR', 'THB', 1)  # Get conversion rate from 1 INR to THB\n",
    "\n",
    "# Rename column\n",
    "df.rename(columns={'salary_in_rupees': 'salary_in_THB'}, inplace=True)\n",
    "\n",
    "# Convert salary values from INR to THB\n",
    "df['salary_in_THB'] = df['salary_in_THB'] * conversion_rate\n",
    "\n",
    "# Display the updated DataFrame\n",
    "print(df)"
   ]
  },
  {
   "cell_type": "code",
   "execution_count": null,
   "id": "429c4844-389d-4760-87f9-c4bf43e431ca",
   "metadata": {
    "scrolled": true
   },
   "outputs": [],
   "source": [
    "# Create work experience year column\n",
    "current_year = datetime.now().year # Get the current year\n",
    "\n",
    "df['work_experience'] = current_year - df['working_year'] # Calculate work experience\n",
    "\n",
    "df.head(5)"
   ]
  },
  {
   "cell_type": "markdown",
   "id": "c17ca440-bdae-4c07-b4e1-8447ebfd9dbb",
   "metadata": {},
   "source": [
    "# 4. Data Exploration"
   ]
  },
  {
   "cell_type": "code",
   "execution_count": null,
   "id": "9d9e5a20-3a76-4f8f-b294-1005e22a7525",
   "metadata": {},
   "outputs": [],
   "source": [
    "df.describe()"
   ]
  },
  {
   "cell_type": "code",
   "execution_count": null,
   "id": "f28775fd-0cdc-4420-806e-86ce45c41319",
   "metadata": {},
   "outputs": [],
   "source": []
  },
  {
   "cell_type": "code",
   "execution_count": null,
   "id": "df240a3a-5225-455d-95f3-e7ef45c83982",
   "metadata": {},
   "outputs": [],
   "source": []
  },
  {
   "cell_type": "code",
   "execution_count": null,
   "id": "f381e2e4-78c7-45b9-ae37-a8879d97172b",
   "metadata": {},
   "outputs": [],
   "source": []
  }
 ],
 "metadata": {
  "kernelspec": {
   "display_name": "Python 3 (ipykernel)",
   "language": "python",
   "name": "python3"
  },
  "language_info": {
   "codemirror_mode": {
    "name": "ipython",
    "version": 3
   },
   "file_extension": ".py",
   "mimetype": "text/x-python",
   "name": "python",
   "nbconvert_exporter": "python",
   "pygments_lexer": "ipython3",
   "version": "3.10.8"
  }
 },
 "nbformat": 4,
 "nbformat_minor": 5
}
