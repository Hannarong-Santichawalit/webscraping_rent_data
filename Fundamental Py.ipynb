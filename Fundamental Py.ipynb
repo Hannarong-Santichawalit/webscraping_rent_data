{
 "cells": [
  {
   "cell_type": "markdown",
   "id": "0255a781-2e94-4b02-b268-816bfcb980aa",
   "metadata": {},
   "source": [
    "# 0.Variables"
   ]
  },
  {
   "cell_type": "code",
   "execution_count": 1,
   "id": "2db1b4ca-adee-44ca-acb2-cd4ab0e78fc0",
   "metadata": {},
   "outputs": [],
   "source": [
    "cat_name = 'BOB'"
   ]
  },
  {
   "cell_type": "code",
   "execution_count": 3,
   "id": "ccf63b03-ff3a-4d34-a159-449444d99fb2",
   "metadata": {},
   "outputs": [
    {
     "data": {
      "text/plain": [
       "'BOB'"
      ]
     },
     "execution_count": 3,
     "metadata": {},
     "output_type": "execute_result"
    }
   ],
   "source": [
    "cat_name"
   ]
  },
  {
   "cell_type": "code",
   "execution_count": 5,
   "id": "ef38a98c-eeb3-4172-8c1a-547f41bae380",
   "metadata": {},
   "outputs": [
    {
     "data": {
      "text/plain": [
       "str"
      ]
     },
     "execution_count": 5,
     "metadata": {},
     "output_type": "execute_result"
    }
   ],
   "source": [
    "type(cat_name)"
   ]
  },
  {
   "cell_type": "markdown",
   "id": "99c4368f-1adc-46f5-a0f6-af28ab6cfd20",
   "metadata": {},
   "source": [
    "# 1.Data Types"
   ]
  },
  {
   "cell_type": "code",
   "execution_count": 9,
   "id": "a57902b9-c8ed-4ba0-a962-41c571fc440a",
   "metadata": {},
   "outputs": [
    {
     "name": "stdout",
     "output_type": "stream",
     "text": [
      "pluto\n"
     ]
    }
   ],
   "source": [
    "# This is declaring a variable as a STRING\n",
    "string_variable = 'pluto'\n",
    "print(test_variable)"
   ]
  },
  {
   "cell_type": "code",
   "execution_count": 10,
   "id": "594b5901-9c21-49da-a054-98cc9603a656",
   "metadata": {},
   "outputs": [
    {
     "data": {
      "text/plain": [
       "str"
      ]
     },
     "execution_count": 10,
     "metadata": {},
     "output_type": "execute_result"
    }
   ],
   "source": [
    "type(string_variable)"
   ]
  },
  {
   "cell_type": "code",
   "execution_count": 13,
   "id": "9d7a0322-8f5c-42cf-8b90-8fbd097a95d9",
   "metadata": {},
   "outputs": [
    {
     "name": "stdout",
     "output_type": "stream",
     "text": [
      "100\n"
     ]
    },
    {
     "data": {
      "text/plain": [
       "int"
      ]
     },
     "execution_count": 13,
     "metadata": {},
     "output_type": "execute_result"
    }
   ],
   "source": [
    "# This is declaring a variable as a INTEGER\n",
    "integer_variable = 100\n",
    "print(integer_variable)\n",
    "type(integer_variable)"
   ]
  },
  {
   "cell_type": "code",
   "execution_count": 14,
   "id": "c047a700-7f8b-4585-8e8b-4d5da0a45e0a",
   "metadata": {},
   "outputs": [
    {
     "data": {
      "text/plain": [
       "110"
      ]
     },
     "execution_count": 14,
     "metadata": {},
     "output_type": "execute_result"
    }
   ],
   "source": [
    "integer_variable + 10"
   ]
  },
  {
   "cell_type": "code",
   "execution_count": 17,
   "id": "48fec122-c32e-4d50-b52a-a9bd664b4425",
   "metadata": {},
   "outputs": [
    {
     "name": "stdout",
     "output_type": "stream",
     "text": [
      "3.14\n"
     ]
    }
   ],
   "source": [
    "# This is declaring a variable as a FLOAT\n",
    "float_variable = 3.14\n",
    "type(float_variable)\n",
    "print(float_variable)"
   ]
  },
  {
   "cell_type": "code",
   "execution_count": 21,
   "id": "e8d52995-5eae-44e0-a4a7-96f7f3dc732d",
   "metadata": {},
   "outputs": [
    {
     "name": "stdout",
     "output_type": "stream",
     "text": [
      "False\n"
     ]
    }
   ],
   "source": [
    "# This is assigning a BOOLEAN value to a variable\n",
    "bool_variable = bool(0)\n",
    "type(bool_variable)\n",
    "print(bool_variable)"
   ]
  },
  {
   "cell_type": "code",
   "execution_count": 28,
   "id": "ae82f9b2-3ff7-434e-a4c7-8e1bcc7403b0",
   "metadata": {},
   "outputs": [
    {
     "data": {
      "text/plain": [
       "list"
      ]
     },
     "execution_count": 28,
     "metadata": {},
     "output_type": "execute_result"
    }
   ],
   "source": [
    "# This is a list variable\n",
    "list_variable =[1, 2, 3, 3.33, 5.1, 3.21, 1 , 1, 2]\n",
    "type(list_variable)"
   ]
  },
  {
   "cell_type": "code",
   "execution_count": 29,
   "id": "8d6ef855-330c-4b18-8c43-471f153ead06",
   "metadata": {},
   "outputs": [
    {
     "data": {
      "text/plain": [
       "[1, 2, 3, 100, 5.1, 3.21, 1, 1, 2]"
      ]
     },
     "execution_count": 29,
     "metadata": {},
     "output_type": "execute_result"
    }
   ],
   "source": [
    "list_variable[3] = 100\n",
    "list_variable"
   ]
  },
  {
   "cell_type": "code",
   "execution_count": 12,
   "id": "3c547281-33d7-43e2-bfd3-7cc530deb9e1",
   "metadata": {},
   "outputs": [
    {
     "data": {
      "text/plain": [
       "tuple"
      ]
     },
     "execution_count": 12,
     "metadata": {},
     "output_type": "execute_result"
    }
   ],
   "source": [
    "# This is a tuple variable, IMMUTABLE\n",
    "tuple_variable = (1, 2, 3, 3.33, 5.1, 3.21)\n",
    "type(tuple_variable)"
   ]
  },
  {
   "cell_type": "code",
   "execution_count": 13,
   "id": "129064e3-6121-48ad-8121-7f868fdbad1e",
   "metadata": {},
   "outputs": [
    {
     "data": {
      "text/plain": [
       "1"
      ]
     },
     "execution_count": 13,
     "metadata": {},
     "output_type": "execute_result"
    }
   ],
   "source": [
    "tuple_variable[0]"
   ]
  },
  {
   "cell_type": "code",
   "execution_count": 25,
   "id": "a30c2319-a8bd-4982-8d98-0b2b4be6f0d8",
   "metadata": {},
   "outputs": [
    {
     "data": {
      "text/plain": [
       "set"
      ]
     },
     "execution_count": 25,
     "metadata": {},
     "output_type": "execute_result"
    }
   ],
   "source": [
    "# This is creating a set variable, IMMUTABLE, NO duplicate values\n",
    "set_variable = {1, 2, 3, 3.33, 5.1, 3.21, 3}\n",
    "type(set_variable)"
   ]
  },
  {
   "cell_type": "code",
   "execution_count": 31,
   "id": "1b6ac69d-dae8-424e-863e-856fbd40bbde",
   "metadata": {},
   "outputs": [
    {
     "data": {
      "text/plain": [
       "[1, 2, 3, 100, 5.1, 3.21]"
      ]
     },
     "execution_count": 31,
     "metadata": {},
     "output_type": "execute_result"
    }
   ],
   "source": [
    "# Type casting list to set to list to get rid of duplicates\n",
    "list(set(list_variable))"
   ]
  },
  {
   "cell_type": "code",
   "execution_count": 33,
   "id": "27a1b0cb-8aac-45b1-b0dd-ae09eca31ecc",
   "metadata": {},
   "outputs": [
    {
     "data": {
      "text/plain": [
       "dict"
      ]
     },
     "execution_count": 33,
     "metadata": {},
     "output_type": "execute_result"
    }
   ],
   "source": [
    "# Defining a dictionary variable\n",
    "dict_variable = {'name':\"BOB\", 'fav_color':'blue', 'fav_number': 5}\n",
    "type(dict_variable)"
   ]
  },
  {
   "cell_type": "code",
   "execution_count": 34,
   "id": "4a537677-a794-4674-abd1-28ff63f86f01",
   "metadata": {},
   "outputs": [
    {
     "name": "stdout",
     "output_type": "stream",
     "text": [
      "{'name': 'BOB', 'fav_color': 'blue', 'fav_number': 5}\n"
     ]
    }
   ],
   "source": [
    "print(dict_variable)"
   ]
  },
  {
   "cell_type": "code",
   "execution_count": 35,
   "id": "14ad4cab-b1d3-489b-9c38-acd0777a6d88",
   "metadata": {},
   "outputs": [
    {
     "data": {
      "text/plain": [
       "'BOB'"
      ]
     },
     "execution_count": 35,
     "metadata": {},
     "output_type": "execute_result"
    }
   ],
   "source": [
    "dict_variable['name']"
   ]
  },
  {
   "cell_type": "markdown",
   "id": "5b0c2617-05cd-49bb-bd81-20c0e88f8789",
   "metadata": {},
   "source": [
    "# 2. List"
   ]
  },
  {
   "cell_type": "code",
   "execution_count": 40,
   "id": "84ed0352-a85e-4766-966d-c6038acde355",
   "metadata": {},
   "outputs": [],
   "source": [
    "# Create\n",
    "names = ['neil armstrong', 'buzz aldin', 'sally ride', 'yuri gagarin', 'elon musk']"
   ]
  },
  {
   "cell_type": "code",
   "execution_count": 47,
   "id": "9bfe0b49-9d68-4c5f-81f1-0fb03e21b6f1",
   "metadata": {},
   "outputs": [
    {
     "data": {
      "text/plain": [
       "['neil armstrong', 'buzz aldin', 'sally ride', 'yuri gagarin', 'elon musk']"
      ]
     },
     "execution_count": 47,
     "metadata": {},
     "output_type": "execute_result"
    }
   ],
   "source": [
    "# Read\n",
    "names"
   ]
  },
  {
   "cell_type": "code",
   "execution_count": 48,
   "id": "6bf0d15d-986b-4a21-b30e-f9fc8cff7107",
   "metadata": {},
   "outputs": [
    {
     "data": {
      "text/plain": [
       "'neil armstrong'"
      ]
     },
     "execution_count": 48,
     "metadata": {},
     "output_type": "execute_result"
    }
   ],
   "source": [
    "# Reading using Indexing\n",
    "names[0]"
   ]
  },
  {
   "cell_type": "code",
   "execution_count": 49,
   "id": "5455804f-540b-4ce6-b121-e2cc1ee7aee2",
   "metadata": {},
   "outputs": [
    {
     "data": {
      "text/plain": [
       "'elon musk'"
      ]
     },
     "execution_count": 49,
     "metadata": {},
     "output_type": "execute_result"
    }
   ],
   "source": [
    "names[-1]"
   ]
  },
  {
   "cell_type": "code",
   "execution_count": 50,
   "id": "5f0f94a4-d0d4-4a95-9587-42f92a1ffe4a",
   "metadata": {},
   "outputs": [
    {
     "data": {
      "text/plain": [
       "5"
      ]
     },
     "execution_count": 50,
     "metadata": {},
     "output_type": "execute_result"
    }
   ],
   "source": [
    "len(names)"
   ]
  },
  {
   "cell_type": "code",
   "execution_count": 38,
   "id": "62254cfb-d7f5-40ae-a281-509b5498d157",
   "metadata": {},
   "outputs": [],
   "source": [
    "# Update"
   ]
  },
  {
   "cell_type": "code",
   "execution_count": 53,
   "id": "6fcee38a-d137-40df-8f86-0b82f0e6a718",
   "metadata": {},
   "outputs": [
    {
     "data": {
      "text/plain": [
       "['neil armstrong', 'buzz aldin', 'sally ride', 'yuri gagarin', 'bob']"
      ]
     },
     "execution_count": 53,
     "metadata": {},
     "output_type": "execute_result"
    }
   ],
   "source": [
    "names[-1] = 'bob'\n",
    "names"
   ]
  },
  {
   "cell_type": "code",
   "execution_count": 56,
   "id": "eb9158a1-ddb9-4421-b367-96401c9ae1da",
   "metadata": {},
   "outputs": [],
   "source": [
    "names.append('elon musk')"
   ]
  },
  {
   "cell_type": "code",
   "execution_count": 59,
   "id": "8e5b0049-02f9-4898-9146-ff722e0a6a0b",
   "metadata": {},
   "outputs": [
    {
     "data": {
      "text/plain": [
       "['neil armstrong',\n",
       " 'buzz aldin',\n",
       " 'sally ride',\n",
       " 'yuri gagarin',\n",
       " 'bob',\n",
       " 'elon musk',\n",
       " 'elon musk',\n",
       " 'elon musk']"
      ]
     },
     "execution_count": 59,
     "metadata": {},
     "output_type": "execute_result"
    }
   ],
   "source": [
    "names"
   ]
  },
  {
   "cell_type": "code",
   "execution_count": 62,
   "id": "1184413e-f2fa-4b1b-ac41-ac7fb06d4479",
   "metadata": {},
   "outputs": [
    {
     "data": {
      "text/plain": [
       "['richard branson',\n",
       " 'richard branson',\n",
       " 'neil armstrong',\n",
       " 'buzz aldin',\n",
       " 'sally ride',\n",
       " 'yuri gagarin',\n",
       " 'bob',\n",
       " 'elon musk',\n",
       " 'elon musk',\n",
       " 'elon musk']"
      ]
     },
     "execution_count": 62,
     "metadata": {},
     "output_type": "execute_result"
    }
   ],
   "source": [
    "names.insert(0, 'richard branson')\n",
    "names"
   ]
  },
  {
   "cell_type": "code",
   "execution_count": 39,
   "id": "f2f61718-7bb9-4eb1-a6a6-3a79e4c6c415",
   "metadata": {},
   "outputs": [],
   "source": [
    "# Delete"
   ]
  },
  {
   "cell_type": "code",
   "execution_count": 64,
   "id": "452850df-7a84-48ab-8d1c-c35830302c9d",
   "metadata": {},
   "outputs": [],
   "source": [
    "del names[-4]"
   ]
  },
  {
   "cell_type": "code",
   "execution_count": 65,
   "id": "828a00db-e439-4932-be7f-7e58068ae430",
   "metadata": {
    "scrolled": true
   },
   "outputs": [
    {
     "data": {
      "text/plain": [
       "['richard branson',\n",
       " 'richard branson',\n",
       " 'neil armstrong',\n",
       " 'buzz aldin',\n",
       " 'sally ride',\n",
       " 'yuri gagarin',\n",
       " 'elon musk',\n",
       " 'elon musk',\n",
       " 'elon musk']"
      ]
     },
     "execution_count": 65,
     "metadata": {},
     "output_type": "execute_result"
    }
   ],
   "source": [
    "names"
   ]
  },
  {
   "cell_type": "markdown",
   "id": "2674c91e-5e4a-4f5b-8a93-6ca829471ea0",
   "metadata": {},
   "source": [
    "# 3. Dictionaries"
   ]
  },
  {
   "cell_type": "code",
   "execution_count": 86,
   "id": "aa38440e-eb28-4bef-a1c6-a2da40683ac8",
   "metadata": {},
   "outputs": [],
   "source": [
    "# Create\n",
    "astronaut = {\n",
    "    \"name\":\"elon musk\",\n",
    "    \"suit_size\":\"large\",\n",
    "    \"allergies\":\"cat\"\n",
    "}"
   ]
  },
  {
   "cell_type": "code",
   "execution_count": 74,
   "id": "89e32eeb-1a68-4169-8e12-06ead4b7a905",
   "metadata": {},
   "outputs": [
    {
     "data": {
      "text/plain": [
       "{'name': 'elon musk', 'suit_size': 'large', 'allerrgies': 'cat'}"
      ]
     },
     "execution_count": 74,
     "metadata": {},
     "output_type": "execute_result"
    }
   ],
   "source": [
    "# Read\n",
    "astronaut"
   ]
  },
  {
   "cell_type": "code",
   "execution_count": 78,
   "id": "a1602bbf-b2fe-41f6-8bdc-2aa0f8918e67",
   "metadata": {},
   "outputs": [
    {
     "data": {
      "text/plain": [
       "'large'"
      ]
     },
     "execution_count": 78,
     "metadata": {},
     "output_type": "execute_result"
    }
   ],
   "source": [
    "suit_size = astronaut['suit_size']\n",
    "suit_size"
   ]
  },
  {
   "cell_type": "code",
   "execution_count": 80,
   "id": "760699ca-b061-4c16-8a6f-53f483009c06",
   "metadata": {},
   "outputs": [
    {
     "data": {
      "text/plain": [
       "dict_keys(['name', 'suit_size', 'allerrgies'])"
      ]
     },
     "execution_count": 80,
     "metadata": {},
     "output_type": "execute_result"
    }
   ],
   "source": [
    "astronaut.keys()"
   ]
  },
  {
   "cell_type": "code",
   "execution_count": 81,
   "id": "d3959277-bf62-4e84-a7cd-61b066b07185",
   "metadata": {},
   "outputs": [
    {
     "data": {
      "text/plain": [
       "dict_values(['elon musk', 'large', 'cat'])"
      ]
     },
     "execution_count": 81,
     "metadata": {},
     "output_type": "execute_result"
    }
   ],
   "source": [
    "astronaut.values()"
   ]
  },
  {
   "cell_type": "code",
   "execution_count": 69,
   "id": "c4350fab-8258-45bd-a27e-4ba3147f375b",
   "metadata": {},
   "outputs": [],
   "source": [
    "# Update"
   ]
  },
  {
   "cell_type": "code",
   "execution_count": 87,
   "id": "af88b767-3762-466a-98b6-60e572b93d8e",
   "metadata": {},
   "outputs": [],
   "source": [
    "astronaut['allergies'] = 'NA'"
   ]
  },
  {
   "cell_type": "code",
   "execution_count": 88,
   "id": "2c3e42bd-5499-46df-8793-682ea104b43d",
   "metadata": {},
   "outputs": [
    {
     "data": {
      "text/plain": [
       "{'name': 'elon musk', 'suit_size': 'large', 'allergies': 'NA'}"
      ]
     },
     "execution_count": 88,
     "metadata": {},
     "output_type": "execute_result"
    }
   ],
   "source": [
    "astronaut"
   ]
  },
  {
   "cell_type": "code",
   "execution_count": 89,
   "id": "cedd0e52-d0c1-4ee0-87c7-edd7493f54e7",
   "metadata": {},
   "outputs": [],
   "source": [
    "astronaut['space_ship'] = 'Galactic 1'"
   ]
  },
  {
   "cell_type": "code",
   "execution_count": 90,
   "id": "8dd26ae2-b797-4bbc-b458-c1a0f98c547b",
   "metadata": {},
   "outputs": [
    {
     "data": {
      "text/plain": [
       "{'name': 'elon musk',\n",
       " 'suit_size': 'large',\n",
       " 'allergies': 'NA',\n",
       " 'space_ship': 'Galactic 1'}"
      ]
     },
     "execution_count": 90,
     "metadata": {},
     "output_type": "execute_result"
    }
   ],
   "source": [
    "astronaut"
   ]
  },
  {
   "cell_type": "code",
   "execution_count": 70,
   "id": "ef74a435-67d1-4426-af0a-9ace5b6cb920",
   "metadata": {},
   "outputs": [],
   "source": [
    "# Delete"
   ]
  },
  {
   "cell_type": "code",
   "execution_count": 92,
   "id": "b0d710a1-e050-41b4-9b51-c032e63ec5f0",
   "metadata": {},
   "outputs": [],
   "source": [
    "del astronaut['space_ship']"
   ]
  },
  {
   "cell_type": "code",
   "execution_count": 93,
   "id": "9c7b0c81-3546-4719-9860-f7dfa5eec7ec",
   "metadata": {},
   "outputs": [
    {
     "data": {
      "text/plain": [
       "{'name': 'elon musk', 'suit_size': 'large', 'allergies': 'NA'}"
      ]
     },
     "execution_count": 93,
     "metadata": {},
     "output_type": "execute_result"
    }
   ],
   "source": [
    "astronaut"
   ]
  },
  {
   "cell_type": "markdown",
   "id": "628428ca-613f-4882-a95c-d9d4ae3c9773",
   "metadata": {},
   "source": [
    "# 4. Conditions and Logic"
   ]
  },
  {
   "cell_type": "code",
   "execution_count": 9,
   "id": "bb121aeb-7791-429b-91ee-2094ec42c577",
   "metadata": {},
   "outputs": [
    {
     "name": "stdout",
     "output_type": "stream",
     "text": [
      "Hello Neil Armstrong\n"
     ]
    }
   ],
   "source": [
    "# Apply logic using IF statement\n",
    "name = 'Neil Armstrong'\n",
    "if name == 'Neil Armstrong':\n",
    "    print('Hello ' + name)"
   ]
  },
  {
   "cell_type": "code",
   "execution_count": 15,
   "id": "b0dd0b4f-f0ba-465e-9d28-b316dcd05532",
   "metadata": {},
   "outputs": [
    {
     "name": "stdout",
     "output_type": "stream",
     "text": [
      "Check prob\n"
     ]
    }
   ],
   "source": [
    "prob_number = -0.54\n",
    "# Probability is greater than 0.5\n",
    "if prob_number >= 0.5:\n",
    "    print(True)\n",
    "\n",
    "# Print out a statement if probability is below\n",
    "elif prob_number < 0:\n",
    "    print('Check prob')\n",
    "    \n",
    "# Anything else\n",
    "else:\n",
    "    print(False)"
   ]
  },
  {
   "cell_type": "code",
   "execution_count": 34,
   "id": "4f82380a-2729-4599-82d3-af6a0610a749",
   "metadata": {},
   "outputs": [
    {
     "name": "stdout",
     "output_type": "stream",
     "text": [
      "Hello' Neil\n"
     ]
    }
   ],
   "source": [
    "# Create a List of names\n",
    "names = ['Neil Armstrong', 'Buzz Aldrin', 'Sally Ride', 'Yuri Gagarin', 'Elon']\n",
    "if 'Neil Armstrong' in names:\n",
    "    # Using Python escape \\\n",
    "    print('Hello\\' Neil')"
   ]
  },
  {
   "cell_type": "markdown",
   "id": "83f32d60-91de-4db6-b85a-af8b1dc26d59",
   "metadata": {},
   "source": [
    "# 5. Loops"
   ]
  },
  {
   "cell_type": "code",
   "execution_count": 47,
   "id": "2afeb053-801e-4ce0-817a-028ee9ef4722",
   "metadata": {},
   "outputs": [
    {
     "name": "stdout",
     "output_type": "stream",
     "text": [
      "Neil Armstrong\n",
      "Nope\n",
      "\n",
      "Buzz Aldrin\n",
      "Hello\n",
      "\n",
      "Sally Ride\n",
      "Nope\n",
      "\n",
      "Yuri Gagarin\n",
      "bye\n"
     ]
    }
   ],
   "source": [
    "# for Loop\n",
    "for name in names:\n",
    "    print(name)\n",
    "    if name == 'Buzz Aldrin':\n",
    "        print('Hello\\n')\n",
    "        # Next value in loop\n",
    "        continue\n",
    "    elif name == 'Yuri Gagarin':\n",
    "        print('bye')\n",
    "        break\n",
    "    else:\n",
    "        # Do nothing\n",
    "        pass\n",
    "    \n",
    "    print('Nope\\n')\n",
    "\n",
    "    "
   ]
  },
  {
   "cell_type": "code",
   "execution_count": 49,
   "id": "2f58f553-f13d-4c9f-8841-e67e682292aa",
   "metadata": {},
   "outputs": [
    {
     "name": "stdout",
     "output_type": "stream",
     "text": [
      "1\n",
      "2\n",
      "3\n",
      "4\n",
      "5\n",
      "6\n",
      "7\n",
      "8\n",
      "9\n",
      "10\n"
     ]
    }
   ],
   "source": [
    "# Loop x number of times\n",
    "for idx in range(1,11):\n",
    "    print(idx)"
   ]
  },
  {
   "cell_type": "code",
   "execution_count": 75,
   "id": "cddf6a58-5c72-44a2-8a19-5ea4e4062023",
   "metadata": {},
   "outputs": [
    {
     "name": "stdout",
     "output_type": "stream",
     "text": [
      "shuttle 1 launched\n",
      "shuttle 2 launched\n",
      "shuttle 3 launched\n",
      "shuttle 4 launched\n",
      "shuttle 5 launched\n",
      "shuttle 6 launched\n",
      "shuttle 7 launched\n",
      "shuttle 8 launched\n",
      "shuttle 9 launched\n",
      "shuttle 10 launched\n",
      "All shuttles launched\n"
     ]
    }
   ],
   "source": [
    "# While Loop\n",
    "# Create Launch variables\n",
    "\n",
    "launched_shuttles = 0\n",
    "total_shuttles = 10\n",
    "\n",
    "while True:\n",
    "    print('shuttle {} launched'.format(launched_shuttles+1))\n",
    "    launched_shuttles += 1\n",
    "    \n",
    "    if launched_shuttles == total_shuttles:\n",
    "        print('All shuttles launched')\n",
    "        break"
   ]
  },
  {
   "cell_type": "code",
   "execution_count": 74,
   "id": "b7a2cf41-a9dc-4c25-82ea-62c6969e71e7",
   "metadata": {},
   "outputs": [
    {
     "name": "stdout",
     "output_type": "stream",
     "text": [
      "shuttle 1 launched\n",
      "shuttle 2 launched\n",
      "shuttle 3 launched\n",
      "shuttle 4 launched\n",
      "shuttle 5 launched\n",
      "shuttle 6 launched\n",
      "shuttle 7 launched\n",
      "shuttle 8 launched\n",
      "shuttle 9 launched\n",
      "shuttle 10 launched\n",
      "All shuttles launched\n",
      "CPU times: total: 0 ns\n",
      "Wall time: 0 ns\n"
     ]
    }
   ],
   "source": [
    "# Another way to give conditions to while loop\n",
    "launched_shuttles = 0\n",
    "total_shuttles = 10\n",
    "\n",
    "while launched_shuttles != total_shuttles:\n",
    "    print('shuttle {} launched'.format(launched_shuttles+1))\n",
    "    launched_shuttles += 1\n",
    "    \n",
    "print('All shuttles launched')"
   ]
  },
  {
   "cell_type": "code",
   "execution_count": 77,
   "id": "caa32e3a-ca2e-449b-b260-a7ce4cc8087d",
   "metadata": {},
   "outputs": [],
   "source": [
    "pet = {\n",
    "    \"namne\":'BOB',\n",
    "    \"type\":'cat',\n",
    "    \"color\":'taby blue'\n",
    "}"
   ]
  },
  {
   "cell_type": "code",
   "execution_count": 79,
   "id": "00d080ea-f63a-4e8b-be9b-f894fb0e39df",
   "metadata": {},
   "outputs": [
    {
     "name": "stdout",
     "output_type": "stream",
     "text": [
      "namne\n",
      "type\n",
      "color\n"
     ]
    }
   ],
   "source": [
    "# Loop through keys in a dictionary\n",
    "for key in pet.keys():\n",
    "    print(key)"
   ]
  },
  {
   "cell_type": "code",
   "execution_count": 81,
   "id": "4ea863a7-543b-483d-a14d-c0bab3a397ae",
   "metadata": {},
   "outputs": [
    {
     "data": {
      "text/plain": [
       "dict_values(['BOB', 'cat', 'taby blue'])"
      ]
     },
     "execution_count": 81,
     "metadata": {},
     "output_type": "execute_result"
    }
   ],
   "source": [
    "# Accessing dictionary values\n",
    "pet.values()"
   ]
  },
  {
   "cell_type": "code",
   "execution_count": 83,
   "id": "786b434b-f68f-4c67-938a-4b81b299a767",
   "metadata": {},
   "outputs": [
    {
     "name": "stdout",
     "output_type": "stream",
     "text": [
      "BOB\n",
      "cat\n",
      "taby blue\n"
     ]
    }
   ],
   "source": [
    "# Loop through values in a dictionary\n",
    "for value in pet.values():\n",
    "    print(value)"
   ]
  },
  {
   "cell_type": "code",
   "execution_count": 93,
   "id": "0bb5a812-3d30-46b3-a5b3-b1619dcfe275",
   "metadata": {},
   "outputs": [
    {
     "name": "stdout",
     "output_type": "stream",
     "text": [
      "namne BOB\n",
      "BOB \n",
      "\n",
      "type cat\n",
      "cat \n",
      "\n",
      "color taby blue\n",
      "taby blue \n",
      "\n"
     ]
    }
   ],
   "source": [
    "# Loop Keys and Values at the same time\n",
    "for key, value in pet.items():\n",
    "    print(key, value)\n",
    "    print(value, '\\n')"
   ]
  },
  {
   "cell_type": "code",
   "execution_count": 97,
   "id": "784f5b73-3354-43dd-a4d4-556b898e3ee7",
   "metadata": {},
   "outputs": [
    {
     "data": {
      "text/plain": [
       "['Neil Armstrong', 'Buzz Aldrin', 'Sally Ride', 'Yuri Gagarin', 'Elon']"
      ]
     },
     "execution_count": 97,
     "metadata": {},
     "output_type": "execute_result"
    }
   ],
   "source": [
    "# List comprehension\n",
    "new_list = [name.title() for name in names]\n",
    "new_list"
   ]
  },
  {
   "cell_type": "markdown",
   "id": "16c713c5-13b6-406d-bc95-5f886ee759c5",
   "metadata": {},
   "source": [
    "# 6. Functions"
   ]
  },
  {
   "cell_type": "code",
   "execution_count": 17,
   "id": "c7659274-c230-46dd-94f7-1468e5ca6208",
   "metadata": {},
   "outputs": [],
   "source": [
    "# Defining a function in Python\n",
    "def launchpad_welcome(name):\n",
    "    print('Hello' + name)"
   ]
  },
  {
   "cell_type": "code",
   "execution_count": 3,
   "id": "e100ebea-0015-40f3-9c08-45e9f34b7cd2",
   "metadata": {},
   "outputs": [
    {
     "name": "stdout",
     "output_type": "stream",
     "text": [
      "Hello\n"
     ]
    }
   ],
   "source": [
    "launchpad_welcome()"
   ]
  },
  {
   "cell_type": "code",
   "execution_count": 18,
   "id": "2ee56f09-22a5-43ab-97d8-44fb7eb8891b",
   "metadata": {},
   "outputs": [
    {
     "name": "stdout",
     "output_type": "stream",
     "text": [
      "hello\n",
      "hello\n",
      "hello\n",
      "hello\n",
      "hello\n",
      "hello\n",
      "hello\n",
      "hello\n",
      "hello\n",
      "hello\n"
     ]
    }
   ],
   "source": [
    "for idx in range(10):\n",
    "    print('hello')"
   ]
  },
  {
   "cell_type": "code",
   "execution_count": 16,
   "id": "a9c614a4-f6f9-44e0-bcc9-1559b9779c3d",
   "metadata": {},
   "outputs": [],
   "source": [
    "names = ['neil armstrong', 'buzz aldin', 'sally ride', 'yuri gagarin', 'elon musk']"
   ]
  },
  {
   "cell_type": "code",
   "execution_count": 19,
   "id": "19f95e30-1845-4e8c-aa06-6fa4dd26c88e",
   "metadata": {},
   "outputs": [],
   "source": [
    "def customer_welcome(name):\n",
    "    print('Welcome {}'.format(name))"
   ]
  },
  {
   "cell_type": "code",
   "execution_count": 24,
   "id": "6130c354-4239-4aaa-807e-3795269ab549",
   "metadata": {},
   "outputs": [
    {
     "name": "stdout",
     "output_type": "stream",
     "text": [
      "Welcome BOB\n"
     ]
    }
   ],
   "source": [
    "customer_welcome('BOB')"
   ]
  },
  {
   "cell_type": "code",
   "execution_count": 27,
   "id": "58c90132-e134-4f33-a066-5ac5195bbd7f",
   "metadata": {},
   "outputs": [
    {
     "name": "stdout",
     "output_type": "stream",
     "text": [
      "Hello big and bob\n"
     ]
    }
   ],
   "source": [
    "# String formatting\n",
    "print('Hello {} and {}'.format('big', 'bob'))"
   ]
  },
  {
   "cell_type": "code",
   "execution_count": null,
   "id": "7a9ac509-83b6-4ecd-b53f-2249fee4e5ec",
   "metadata": {},
   "outputs": [],
   "source": []
  },
  {
   "cell_type": "code",
   "execution_count": 25,
   "id": "4c3da5ce-6130-4955-adee-5b878ea3982d",
   "metadata": {},
   "outputs": [
    {
     "name": "stdout",
     "output_type": "stream",
     "text": [
      "Welcome sally ride\n"
     ]
    }
   ],
   "source": [
    "customer_welcome(names[2])"
   ]
  },
  {
   "cell_type": "code",
   "execution_count": 23,
   "id": "027f3824-9f0a-44c7-bd89-adb1a68859cf",
   "metadata": {},
   "outputs": [
    {
     "name": "stdout",
     "output_type": "stream",
     "text": [
      "Welcome neil armstrong\n",
      "Welcome buzz aldin\n",
      "Welcome sally ride\n",
      "Welcome yuri gagarin\n",
      "Welcome elon musk\n"
     ]
    }
   ],
   "source": [
    "for name in names:\n",
    "    customer_welcome(name)"
   ]
  },
  {
   "cell_type": "code",
   "execution_count": 31,
   "id": "468fb39f-7157-4ae5-a21b-2cd267051494",
   "metadata": {},
   "outputs": [],
   "source": [
    "# Multiple position argument\n",
    "def customer_welcome_toship(name, space_ship):\n",
    "    print('Welcome {} to {}'.format(name, space_ship))"
   ]
  },
  {
   "cell_type": "code",
   "execution_count": 38,
   "id": "c511689f-758f-4ed6-a75f-86d196872f85",
   "metadata": {},
   "outputs": [
    {
     "name": "stdout",
     "output_type": "stream",
     "text": [
      "Welcome big to titanic\n"
     ]
    }
   ],
   "source": [
    "customer_welcome_toship('big', 'titanic')"
   ]
  },
  {
   "cell_type": "code",
   "execution_count": 49,
   "id": "ea4a81d7-7ee1-4294-8eef-4e0d090ce4f4",
   "metadata": {},
   "outputs": [],
   "source": [
    "space_ships = ['ship 1', 'ship 2', 'ship 3', 'ship 4', 'ship 5']"
   ]
  },
  {
   "cell_type": "code",
   "execution_count": 51,
   "id": "92e2ca80-4e06-4c5e-acf3-1da2b7cd73ac",
   "metadata": {},
   "outputs": [
    {
     "name": "stdout",
     "output_type": "stream",
     "text": [
      "Welcome neil armstrong to ship 1\n",
      "Welcome buzz aldin to ship 2\n",
      "Welcome sally ride to ship 3\n",
      "Welcome yuri gagarin to ship 4\n",
      "Welcome elon musk to ship 5\n"
     ]
    }
   ],
   "source": [
    "# Used the enumerate function to get the positional index AND the name\n",
    "for idx, name in enumerate(names):\n",
    "    ship = space_ships[idx]\n",
    "    customer_welcome_toship(name, ship)"
   ]
  },
  {
   "cell_type": "code",
   "execution_count": 58,
   "id": "c40ad45f-165e-4e46-b681-0cbfbca8ee33",
   "metadata": {},
   "outputs": [],
   "source": [
    "# This is using keyword arguments\n",
    "def space_suit(color='blue'):\n",
    "    print('Your space suit is {}'.format(color))"
   ]
  },
  {
   "cell_type": "code",
   "execution_count": 59,
   "id": "c1a48287-c7bf-4f23-9efa-7e9134d86388",
   "metadata": {},
   "outputs": [
    {
     "name": "stdout",
     "output_type": "stream",
     "text": [
      "Your space suit is blue\n"
     ]
    }
   ],
   "source": [
    "space_suit()"
   ]
  },
  {
   "cell_type": "code",
   "execution_count": 77,
   "id": "739af1f0-cc62-4f23-8065-ec018167f66b",
   "metadata": {},
   "outputs": [],
   "source": [
    "# Multiple keyword argument\n",
    "def space_suit_welcome(name, space_ship, color='blue', allergies='NA'):\n",
    "    print('Welcome {} to {}, your suit is {}, you have {} allergies'.format(name, space_ship, color, allergies))"
   ]
  },
  {
   "cell_type": "code",
   "execution_count": 67,
   "id": "d7ca1f54-893f-4d52-bcd5-287b31531d7a",
   "metadata": {},
   "outputs": [
    {
     "name": "stdout",
     "output_type": "stream",
     "text": [
      "Welcome bob to ship 1, your suit is red, you have shimp allergies\n"
     ]
    }
   ],
   "source": [
    "space_suit_welcome('bob', 'ship 1', 'red', 'shimp')"
   ]
  },
  {
   "cell_type": "code",
   "execution_count": 79,
   "id": "550c52cb-4658-43f1-992e-0dd71d1d033b",
   "metadata": {},
   "outputs": [],
   "source": [
    "# Setup a return statement\n",
    "def space_suit_welcome_with_return(name, space_ship, color='blue', allergies='NA'):\n",
    "    return 'Welcome {} to {}, your suit is {}, you have {} allergies'.format(name, space_ship, color, allergies)"
   ]
  },
  {
   "cell_type": "code",
   "execution_count": 70,
   "id": "56727b65-a61e-4dbd-aaed-e60fd79e9894",
   "metadata": {},
   "outputs": [],
   "source": [
    "# storing the results of the function inside a variable\n",
    "welcome = space_suit_welcome_with_return('bob', 'ship 1')"
   ]
  },
  {
   "cell_type": "code",
   "execution_count": 76,
   "id": "649c645e-9a2b-442b-8481-995debfd7592",
   "metadata": {},
   "outputs": [
    {
     "name": "stdout",
     "output_type": "stream",
     "text": [
      "Welcome bob to ship 1, your suit is blue, you have NA allergies\n"
     ]
    }
   ],
   "source": [
    "print(welcome)"
   ]
  },
  {
   "cell_type": "code",
   "execution_count": 82,
   "id": "80dff53c-5b96-4a25-9b41-e2202e2e16c0",
   "metadata": {},
   "outputs": [],
   "source": [
    "# lambda function - anonymous function\n",
    "pi = lambda x: x*3.14"
   ]
  },
  {
   "cell_type": "code",
   "execution_count": 81,
   "id": "47897916-ec46-4947-85db-c64073fd0a23",
   "metadata": {},
   "outputs": [
    {
     "data": {
      "text/plain": [
       "6.28"
      ]
     },
     "execution_count": 81,
     "metadata": {},
     "output_type": "execute_result"
    }
   ],
   "source": [
    "pi(2)"
   ]
  },
  {
   "cell_type": "markdown",
   "id": "35d224b8-6794-4468-9f65-f033297f2fa6",
   "metadata": {},
   "source": [
    "# 7. Classes"
   ]
  },
  {
   "cell_type": "code",
   "execution_count": 2,
   "id": "1fd7f2ff-f1f4-484b-bb89-cf4947fe74a6",
   "metadata": {},
   "outputs": [],
   "source": [
    "# Classes as boilerplates for objects\n",
    "class Person():\n",
    "    # The method that runs as soon as you create a class\n",
    "    def __init__(self, name, age, color):\n",
    "        # Create some attributes for our person class\n",
    "        self.name = name\n",
    "        self.age = age\n",
    "        self.color = color\n",
    "\n",
    "    # Date of birth method\n",
    "    def year_of_birth(self):\n",
    "        return 2024-self.age\n",
    "\n",
    "    #Projected age\n",
    "    def project_age(self, years=5):\n",
    "        return self.age+years"
   ]
  },
  {
   "cell_type": "code",
   "execution_count": 6,
   "id": "4b4bb50b-3c0c-4c4d-b4c6-26f41356a20c",
   "metadata": {},
   "outputs": [],
   "source": [
    "new_person = Person('big', 24, 'blue')"
   ]
  },
  {
   "cell_type": "code",
   "execution_count": 7,
   "id": "786534c2-b837-40e4-b158-6ecbe987733c",
   "metadata": {},
   "outputs": [
    {
     "data": {
      "text/plain": [
       "'big'"
      ]
     },
     "execution_count": 7,
     "metadata": {},
     "output_type": "execute_result"
    }
   ],
   "source": [
    "# Accessing a class attribute\n",
    "new_person.name"
   ]
  },
  {
   "cell_type": "code",
   "execution_count": 11,
   "id": "a054e5f3-8c82-4861-bfce-be9fc58e928f",
   "metadata": {},
   "outputs": [
    {
     "data": {
      "text/plain": [
       "2000"
      ]
     },
     "execution_count": 11,
     "metadata": {},
     "output_type": "execute_result"
    }
   ],
   "source": [
    "# Run a method\n",
    "new_person.year_of_birth()"
   ]
  },
  {
   "cell_type": "code",
   "execution_count": 10,
   "id": "aa22b9cd-a141-4b68-b5e9-ec0f196af927",
   "metadata": {},
   "outputs": [
    {
     "data": {
      "text/plain": [
       "34"
      ]
     },
     "execution_count": 10,
     "metadata": {},
     "output_type": "execute_result"
    }
   ],
   "source": [
    "# Run a method with a keyword argument\n",
    "new_person.project_age(10)"
   ]
  },
  {
   "cell_type": "markdown",
   "id": "f16bdc04-ee57-47fc-8182-b4360e4b54df",
   "metadata": {},
   "source": [
    "# 8. INHERITANCE\n",
    "- PARENT is the class passing attributes and methods = PERSON\n",
    "- CHILD is the class inheriting the methods and attributes = ASTRONAUT\n"
   ]
  },
  {
   "cell_type": "code",
   "execution_count": 26,
   "id": "e7c14986-0ad9-4c86-9670-bdcba9f3ce47",
   "metadata": {},
   "outputs": [],
   "source": [
    "# Create a child class\n",
    "class Astronaut(Person):\n",
    "\n",
    "    # Define initialization function\n",
    "    def __init__(self, name, age, color, mission_length):\n",
    "        # This is what gives us inheritance - super method\n",
    "        super().__init__(name, age, color)\n",
    "        self.mission_length = mission_length\n",
    "\n",
    "    # Method for calculating age on return\n",
    "    def age_on_return(self):\n",
    "        return self.project_age(years=int(self.mission_length/12))\n",
    "        "
   ]
  },
  {
   "cell_type": "code",
   "execution_count": 27,
   "id": "a8bf9965-4368-401e-9605-0cf04238bc8d",
   "metadata": {},
   "outputs": [],
   "source": [
    "new_astronaut = Astronaut('bob', 5, 'taby', 12)"
   ]
  },
  {
   "cell_type": "code",
   "execution_count": 28,
   "id": "a44f5f55-05c5-4fdd-9067-9491829597e9",
   "metadata": {},
   "outputs": [
    {
     "data": {
      "text/plain": [
       "5"
      ]
     },
     "execution_count": 28,
     "metadata": {},
     "output_type": "execute_result"
    }
   ],
   "source": [
    "new_astronaut.age"
   ]
  },
  {
   "cell_type": "code",
   "execution_count": 29,
   "id": "ce7b903c-7b43-49cf-a756-f4dc2a2fca53",
   "metadata": {},
   "outputs": [
    {
     "data": {
      "text/plain": [
       "2019"
      ]
     },
     "execution_count": 29,
     "metadata": {},
     "output_type": "execute_result"
    }
   ],
   "source": [
    "new_astronaut.year_of_birth()"
   ]
  },
  {
   "cell_type": "code",
   "execution_count": 30,
   "id": "26b22193-6581-487a-b478-e24fea9dcd79",
   "metadata": {},
   "outputs": [
    {
     "data": {
      "text/plain": [
       "6"
      ]
     },
     "execution_count": 30,
     "metadata": {},
     "output_type": "execute_result"
    }
   ],
   "source": [
    "new_astronaut.age_on_return()"
   ]
  },
  {
   "cell_type": "markdown",
   "id": "728cab76-5a34-4946-ac0c-486edd58fc7d",
   "metadata": {},
   "source": [
    "# 9. Modules"
   ]
  },
  {
   "cell_type": "code",
   "execution_count": 3,
   "id": "74a7cac4-bf33-4f1a-bdff-b3628834ba13",
   "metadata": {},
   "outputs": [],
   "source": [
    "# Import launch codes helper\n",
    "# from helper import launch_codes"
   ]
  },
  {
   "cell_type": "markdown",
   "id": "1cadc392-c6b7-4b8e-8417-7ad5f2651a07",
   "metadata": {},
   "source": [
    "# 10. Working with packages"
   ]
  },
  {
   "cell_type": "code",
   "execution_count": 7,
   "id": "3ce9023a-c895-439e-b836-60cf4096c20f",
   "metadata": {},
   "outputs": [
    {
     "name": "stdout",
     "output_type": "stream",
     "text": [
      "Requirement already satisfied: requests in c:\\users\\user\\appdata\\local\\programs\\python\\python310\\lib\\site-packages (2.31.0)\n",
      "Requirement already satisfied: charset-normalizer<4,>=2 in c:\\users\\user\\appdata\\local\\programs\\python\\python310\\lib\\site-packages (from requests) (3.3.2)\n",
      "Requirement already satisfied: idna<4,>=2.5 in c:\\users\\user\\appdata\\local\\programs\\python\\python310\\lib\\site-packages (from requests) (3.7)\n",
      "Requirement already satisfied: urllib3<3,>=1.21.1 in c:\\users\\user\\appdata\\local\\programs\\python\\python310\\lib\\site-packages (from requests) (2.2.1)\n",
      "Requirement already satisfied: certifi>=2017.4.17 in c:\\users\\user\\appdata\\local\\programs\\python\\python310\\lib\\site-packages (from requests) (2024.2.2)\n"
     ]
    }
   ],
   "source": [
    "!pip install requests"
   ]
  },
  {
   "cell_type": "code",
   "execution_count": 8,
   "id": "729943ac-e854-46e0-87d1-95ed70f559aa",
   "metadata": {
    "scrolled": true
   },
   "outputs": [
    {
     "name": "stdout",
     "output_type": "stream",
     "text": [
      "Package                   Version\n",
      "------------------------- --------------\n",
      "anyio                     4.3.0\n",
      "argon2-cffi               23.1.0\n",
      "argon2-cffi-bindings      21.2.0\n",
      "arrow                     1.3.0\n",
      "asttokens                 2.4.1\n",
      "async-lru                 2.0.4\n",
      "attrs                     23.2.0\n",
      "Babel                     2.14.0\n",
      "beautifulsoup4            4.12.3\n",
      "bleach                    6.1.0\n",
      "certifi                   2024.2.2\n",
      "cffi                      1.16.0\n",
      "charset-normalizer        3.3.2\n",
      "colorama                  0.4.6\n",
      "comm                      0.2.2\n",
      "debugpy                   1.8.1\n",
      "decorator                 5.1.1\n",
      "defusedxml                0.7.1\n",
      "exceptiongroup            1.2.1\n",
      "executing                 2.0.1\n",
      "fastjsonschema            2.19.1\n",
      "fqdn                      1.5.1\n",
      "h11                       0.14.0\n",
      "httpcore                  1.0.5\n",
      "httpx                     0.27.0\n",
      "idna                      3.7\n",
      "ipykernel                 6.29.4\n",
      "ipython                   8.24.0\n",
      "isoduration               20.11.0\n",
      "jedi                      0.19.1\n",
      "Jinja2                    3.1.3\n",
      "joblib                    1.2.0\n",
      "json5                     0.9.25\n",
      "jsonpointer               2.4\n",
      "jsonschema                4.22.0\n",
      "jsonschema-specifications 2023.12.1\n",
      "jupyter_client            8.6.1\n",
      "jupyter_core              5.7.2\n",
      "jupyter-events            0.10.0\n",
      "jupyter-lsp               2.2.5\n",
      "jupyter_server            2.14.0\n",
      "jupyter_server_terminals  0.5.3\n",
      "jupyterlab                4.1.8\n",
      "jupyterlab_pygments       0.3.0\n",
      "jupyterlab_server         2.27.1\n",
      "MarkupSafe                2.1.5\n",
      "matplotlib-inline         0.1.7\n",
      "mistune                   3.0.2\n",
      "nbclient                  0.10.0\n",
      "nbconvert                 7.16.4\n",
      "nbformat                  5.10.4\n",
      "nest-asyncio              1.6.0\n",
      "notebook                  7.1.3\n",
      "notebook_shim             0.2.4\n",
      "numpy                     1.25.0\n",
      "overrides                 7.7.0\n",
      "packaging                 24.0\n",
      "pandocfilters             1.5.1\n",
      "parso                     0.8.4\n",
      "pip                       24.0\n",
      "platformdirs              4.2.1\n",
      "prometheus_client         0.20.0\n",
      "prompt-toolkit            3.0.43\n",
      "psutil                    5.9.8\n",
      "pure-eval                 0.2.2\n",
      "pycparser                 2.22\n",
      "Pygments                  2.17.2\n",
      "python-dateutil           2.9.0.post0\n",
      "python-json-logger        2.0.7\n",
      "pywin32                   306\n",
      "pywinpty                  2.0.13\n",
      "PyYAML                    6.0.1\n",
      "pyzmq                     26.0.3\n",
      "referencing               0.35.1\n",
      "requests                  2.31.0\n",
      "rfc3339-validator         0.1.4\n",
      "rfc3986-validator         0.1.1\n",
      "rpds-py                   0.18.0\n",
      "scikit-learn              1.2.2\n",
      "scipy                     1.10.1\n",
      "Send2Trash                1.8.3\n",
      "setuptools                63.2.0\n",
      "six                       1.16.0\n",
      "sniffio                   1.3.1\n",
      "soupsieve                 2.5\n",
      "stack-data                0.6.3\n",
      "terminado                 0.18.1\n",
      "threadpoolctl             3.1.0\n",
      "tinycss2                  1.3.0\n",
      "tomli                     2.0.1\n",
      "tornado                   6.4\n",
      "traitlets                 5.14.3\n",
      "types-python-dateutil     2.9.0.20240316\n",
      "typing_extensions         4.11.0\n",
      "uri-template              1.3.0\n",
      "urllib3                   2.2.1\n",
      "wcwidth                   0.2.13\n",
      "webcolors                 1.13\n",
      "webencodings              0.5.1\n",
      "websocket-client          1.8.0\n"
     ]
    }
   ],
   "source": [
    "!pip list"
   ]
  },
  {
   "cell_type": "code",
   "execution_count": 10,
   "id": "107c607c-4d11-43c9-afa3-68146a732905",
   "metadata": {},
   "outputs": [],
   "source": [
    "# Import requests into notebook\n",
    "import requests"
   ]
  },
  {
   "cell_type": "code",
   "execution_count": 11,
   "id": "b5abca0c-e514-4174-af61-ef4009f088be",
   "metadata": {},
   "outputs": [
    {
     "data": {
      "text/plain": [
       "\u001b[1;31mSignature:\u001b[0m \u001b[0mrequests\u001b[0m\u001b[1;33m.\u001b[0m\u001b[0mget\u001b[0m\u001b[1;33m(\u001b[0m\u001b[0murl\u001b[0m\u001b[1;33m,\u001b[0m \u001b[0mparams\u001b[0m\u001b[1;33m=\u001b[0m\u001b[1;32mNone\u001b[0m\u001b[1;33m,\u001b[0m \u001b[1;33m**\u001b[0m\u001b[0mkwargs\u001b[0m\u001b[1;33m)\u001b[0m\u001b[1;33m\u001b[0m\u001b[1;33m\u001b[0m\u001b[0m\n",
       "\u001b[1;31mSource:\u001b[0m   \n",
       "\u001b[1;32mdef\u001b[0m \u001b[0mget\u001b[0m\u001b[1;33m(\u001b[0m\u001b[0murl\u001b[0m\u001b[1;33m,\u001b[0m \u001b[0mparams\u001b[0m\u001b[1;33m=\u001b[0m\u001b[1;32mNone\u001b[0m\u001b[1;33m,\u001b[0m \u001b[1;33m**\u001b[0m\u001b[0mkwargs\u001b[0m\u001b[1;33m)\u001b[0m\u001b[1;33m:\u001b[0m\u001b[1;33m\n",
       "\u001b[0m    \u001b[1;34mr\"\"\"Sends a GET request.\n",
       "\n",
       "    :param url: URL for the new :class:`Request` object.\n",
       "    :param params: (optional) Dictionary, list of tuples or bytes to send\n",
       "        in the query string for the :class:`Request`.\n",
       "    :param \\*\\*kwargs: Optional arguments that ``request`` takes.\n",
       "    :return: :class:`Response <Response>` object\n",
       "    :rtype: requests.Response\n",
       "    \"\"\"\u001b[0m\u001b[1;33m\n",
       "\u001b[0m\u001b[1;33m\n",
       "\u001b[0m    \u001b[1;32mreturn\u001b[0m \u001b[0mrequest\u001b[0m\u001b[1;33m(\u001b[0m\u001b[1;34m\"get\"\u001b[0m\u001b[1;33m,\u001b[0m \u001b[0murl\u001b[0m\u001b[1;33m,\u001b[0m \u001b[0mparams\u001b[0m\u001b[1;33m=\u001b[0m\u001b[0mparams\u001b[0m\u001b[1;33m,\u001b[0m \u001b[1;33m**\u001b[0m\u001b[0mkwargs\u001b[0m\u001b[1;33m)\u001b[0m\u001b[1;33m\u001b[0m\u001b[1;33m\u001b[0m\u001b[0m\n",
       "\u001b[1;31mFile:\u001b[0m      c:\\users\\user\\appdata\\local\\programs\\python\\python310\\lib\\site-packages\\requests\\api.py\n",
       "\u001b[1;31mType:\u001b[0m      function"
      ]
     },
     "metadata": {},
     "output_type": "display_data"
    }
   ],
   "source": [
    "requests.get??"
   ]
  },
  {
   "cell_type": "code",
   "execution_count": 53,
   "id": "5e73a809-0f51-48d6-90b6-21c01d57086f",
   "metadata": {},
   "outputs": [],
   "source": [
    "# I can haz dad joke api endpoint\n",
    "joke_url = 'https://icanhazdadjoke.com'\n",
    "\n",
    "# Iss api endpoint\n",
    "iss_url = 'https://api.wheretheiss.at/v1/satellites/25544'"
   ]
  },
  {
   "cell_type": "code",
   "execution_count": 66,
   "id": "3f6a47de-da1b-4584-8c2b-ab6a874eb9fa",
   "metadata": {},
   "outputs": [],
   "source": [
    "# This is setting up a header - metadata for your api request\n",
    "my_header = {'Accept':'application/json'}\n",
    "\n",
    "# API call\n",
    "results = requests.get(joke_url, headers = my_header)"
   ]
  },
  {
   "cell_type": "code",
   "execution_count": 71,
   "id": "9b21f234-ebdf-48e6-b5d1-4689ee04d634",
   "metadata": {},
   "outputs": [],
   "source": [
    "json_result = results.json()"
   ]
  },
  {
   "cell_type": "code",
   "execution_count": 59,
   "id": "17a6b890-1775-4001-887d-705ef7c7db89",
   "metadata": {},
   "outputs": [
    {
     "data": {
      "text/plain": [
       "dict"
      ]
     },
     "execution_count": 59,
     "metadata": {},
     "output_type": "execute_result"
    }
   ],
   "source": [
    "type(json_result)"
   ]
  },
  {
   "cell_type": "code",
   "execution_count": 73,
   "id": "eee66dad-9b45-469b-ba21-17bbd4a2af0d",
   "metadata": {},
   "outputs": [
    {
     "data": {
      "text/plain": [
       "'This is my step ladder. I never knew my real ladder.'"
      ]
     },
     "execution_count": 73,
     "metadata": {},
     "output_type": "execute_result"
    }
   ],
   "source": [
    "json_result['joke']"
   ]
  },
  {
   "cell_type": "code",
   "execution_count": 76,
   "id": "7dfa6800-41f4-4986-8e0b-7762b44784ff",
   "metadata": {},
   "outputs": [],
   "source": [
    "iss_results = requests.get(iss_url, headers=my_header)"
   ]
  },
  {
   "cell_type": "code",
   "execution_count": 79,
   "id": "e4fa5adf-e774-4775-a8d2-3e5fc6811950",
   "metadata": {},
   "outputs": [
    {
     "data": {
      "text/plain": [
       "{'name': 'iss',\n",
       " 'id': 25544,\n",
       " 'latitude': 28.937978889589,\n",
       " 'longitude': -22.288846561914,\n",
       " 'altitude': 412.54220544173,\n",
       " 'velocity': 27607.488915593,\n",
       " 'visibility': 'daylight',\n",
       " 'footprint': 4469.3252495091,\n",
       " 'timestamp': 1715406134,\n",
       " 'daynum': 2460441.737662,\n",
       " 'solar_lat': 18.015378679069,\n",
       " 'solar_lon': 93.537828816652,\n",
       " 'units': 'kilometers'}"
      ]
     },
     "execution_count": 79,
     "metadata": {},
     "output_type": "execute_result"
    }
   ],
   "source": [
    "iss_results.json()"
   ]
  },
  {
   "cell_type": "markdown",
   "id": "321af598-0cce-4ecd-aa59-221ab03c28d0",
   "metadata": {},
   "source": [
    "# 11. Working with Files"
   ]
  },
  {
   "cell_type": "code",
   "execution_count": 11,
   "id": "8735ad18-7215-4a42-b808-2dbccbe258f9",
   "metadata": {},
   "outputs": [],
   "source": [
    "# Write out our mission journal\n",
    "with open('mission_log.txt', 'w') as f:\n",
    "    f.write(\"It's my first day on the space mission\")"
   ]
  },
  {
   "cell_type": "code",
   "execution_count": 16,
   "id": "09b727c3-e1b1-45f8-b02a-07dade367a5f",
   "metadata": {},
   "outputs": [
    {
     "name": "stdout",
     "output_type": "stream",
     "text": [
      "It's my first day on the space mission\n"
     ]
    }
   ],
   "source": [
    "# Read from mission log\n",
    "with open('mission_log.txt', 'r') as r:\n",
    "    file = r.read()\n",
    "\n",
    "print(file)"
   ]
  },
  {
   "cell_type": "markdown",
   "id": "24e8bf1c-851f-4706-b027-7ee381a1ffca",
   "metadata": {},
   "source": [
    "# 12. Error Handling"
   ]
  },
  {
   "cell_type": "code",
   "execution_count": 18,
   "id": "e2beb334-adc1-44ca-9763-a583d6d0afcb",
   "metadata": {},
   "outputs": [],
   "source": [
    "# Create a set\n",
    "new_set = {1,2,3,4,5}"
   ]
  },
  {
   "cell_type": "code",
   "execution_count": 31,
   "id": "c476998b-0a79-4168-944e-ac5a7f64c059",
   "metadata": {},
   "outputs": [
    {
     "name": "stdout",
     "output_type": "stream",
     "text": [
      "Something went wrong\n"
     ]
    }
   ],
   "source": [
    "# Try something using the try error\n",
    "try:\n",
    "    # Run a pice of code which may cause an error\n",
    "    new_set[0] = 4\n",
    "\n",
    "# If we have an error, this code below will run\n",
    "except Exception as e:\n",
    "    # print(e)\n",
    "    # Print out something that error\n",
    "    print('Something went wrong')"
   ]
  },
  {
   "cell_type": "markdown",
   "id": "11fa3594-10f0-4fcf-a369-17b71d144b42",
   "metadata": {},
   "source": [
    "# 13. Math componance"
   ]
  },
  {
   "cell_type": "code",
   "execution_count": 32,
   "id": "0ba520fb-1d23-4307-96dc-4eca31304711",
   "metadata": {},
   "outputs": [],
   "source": [
    "# Create two variable\n",
    "math_value_1 = 1234\n",
    "math_value_2 = 4567"
   ]
  },
  {
   "cell_type": "code",
   "execution_count": 35,
   "id": "4ee9e598-be55-4d91-b312-4bdc3db53b71",
   "metadata": {},
   "outputs": [
    {
     "data": {
      "text/plain": [
       "5801"
      ]
     },
     "execution_count": 35,
     "metadata": {},
     "output_type": "execute_result"
    }
   ],
   "source": [
    "# addition\n",
    "math_value_1 + math_value_2"
   ]
  },
  {
   "cell_type": "code",
   "execution_count": 36,
   "id": "7ca0f6b2-87a9-4356-a440-20f34ae514f6",
   "metadata": {},
   "outputs": [
    {
     "data": {
      "text/plain": [
       "-3333"
      ]
     },
     "execution_count": 36,
     "metadata": {},
     "output_type": "execute_result"
    }
   ],
   "source": [
    "# Subtraction\n",
    "math_value_1 - math_value_2"
   ]
  },
  {
   "cell_type": "code",
   "execution_count": 40,
   "id": "6aca1535-f5f0-47f8-baf3-7fd0461c6def",
   "metadata": {},
   "outputs": [
    {
     "data": {
      "text/plain": [
       "5635678"
      ]
     },
     "execution_count": 40,
     "metadata": {},
     "output_type": "execute_result"
    }
   ],
   "source": [
    "# Multiplication\n",
    "math_value_1 * math_value_2"
   ]
  },
  {
   "cell_type": "code",
   "execution_count": 41,
   "id": "003f4416-17aa-42dd-841a-89aeb3b2ed3b",
   "metadata": {},
   "outputs": [
    {
     "data": {
      "text/plain": [
       "0.27019925552879354"
      ]
     },
     "execution_count": 41,
     "metadata": {},
     "output_type": "execute_result"
    }
   ],
   "source": [
    "# Division\n",
    "math_value_1 / math_value_2"
   ]
  },
  {
   "cell_type": "code",
   "execution_count": 46,
   "id": "3867b755-b090-4084-9c0c-b40cf2088ac3",
   "metadata": {},
   "outputs": [
    {
     "data": {
      "text/plain": [
       "3"
      ]
     },
     "execution_count": 46,
     "metadata": {},
     "output_type": "execute_result"
    }
   ],
   "source": [
    "# Division with the Integral Result\n",
    "math_value_2 // math_value_1"
   ]
  },
  {
   "cell_type": "code",
   "execution_count": 45,
   "id": "9db77727-d87b-499e-957e-9c24525adced",
   "metadata": {},
   "outputs": [
    {
     "data": {
      "text/plain": [
       "865"
      ]
     },
     "execution_count": 45,
     "metadata": {},
     "output_type": "execute_result"
    }
   ],
   "source": [
    "# The remainder of the division\n",
    "math_value_2 % math_value_1"
   ]
  },
  {
   "cell_type": "code",
   "execution_count": 50,
   "id": "6495e2fe-0a56-41fe-adcc-fb73caaead4f",
   "metadata": {},
   "outputs": [
    {
     "data": {
      "text/plain": [
       "1522756"
      ]
     },
     "execution_count": 50,
     "metadata": {},
     "output_type": "execute_result"
    }
   ],
   "source": [
    "# Power\n",
    "math_value_1 ** 2"
   ]
  },
  {
   "cell_type": "code",
   "execution_count": 55,
   "id": "a3748fe5-b4f0-4228-bfeb-138cad5d0fb7",
   "metadata": {},
   "outputs": [
    {
     "data": {
      "text/plain": [
       "3.14"
      ]
     },
     "execution_count": 55,
     "metadata": {},
     "output_type": "execute_result"
    }
   ],
   "source": [
    "# Round\n",
    "round(3.14159, 2)"
   ]
  },
  {
   "cell_type": "code",
   "execution_count": 56,
   "id": "89c369be-c8b9-4e5b-a942-c99256a1ab77",
   "metadata": {},
   "outputs": [
    {
     "data": {
      "text/plain": [
       "21245"
      ]
     },
     "execution_count": 56,
     "metadata": {},
     "output_type": "execute_result"
    }
   ],
   "source": [
    "# Absolute value\n",
    "abs(-21245)"
   ]
  },
  {
   "cell_type": "code",
   "execution_count": 61,
   "id": "35846980-94d3-4754-a1bb-20770f689979",
   "metadata": {},
   "outputs": [
    {
     "data": {
      "text/plain": [
       "1"
      ]
     },
     "execution_count": 61,
     "metadata": {},
     "output_type": "execute_result"
    }
   ],
   "source": [
    "# Minimum\n",
    "num_list = (123,41,412,412,1,4,214)\n",
    "min(num_list)"
   ]
  },
  {
   "cell_type": "code",
   "execution_count": 62,
   "id": "1492d192-552c-441f-8ca9-c68caf57bfa1",
   "metadata": {},
   "outputs": [
    {
     "data": {
      "text/plain": [
       "412"
      ]
     },
     "execution_count": 62,
     "metadata": {},
     "output_type": "execute_result"
    }
   ],
   "source": [
    "# Maximum\n",
    "max(num_list)"
   ]
  },
  {
   "cell_type": "code",
   "execution_count": 63,
   "id": "cb3b606f-9c29-4f3e-82f9-74ae796cea2d",
   "metadata": {},
   "outputs": [],
   "source": [
    "# Import the math package\n",
    "import math"
   ]
  },
  {
   "cell_type": "code",
   "execution_count": 64,
   "id": "2b61dbc3-a353-4935-8ce8-f620f264ab1e",
   "metadata": {},
   "outputs": [
    {
     "data": {
      "text/plain": [
       "4.0"
      ]
     },
     "execution_count": 64,
     "metadata": {},
     "output_type": "execute_result"
    }
   ],
   "source": [
    "math.sqrt(16)"
   ]
  },
  {
   "cell_type": "code",
   "execution_count": null,
   "id": "d8c06f75-3ed5-4537-92bf-cba93370ad48",
   "metadata": {},
   "outputs": [],
   "source": []
  }
 ],
 "metadata": {
  "kernelspec": {
   "display_name": "Python 3 (ipykernel)",
   "language": "python",
   "name": "python3"
  },
  "language_info": {
   "codemirror_mode": {
    "name": "ipython",
    "version": 3
   },
   "file_extension": ".py",
   "mimetype": "text/x-python",
   "name": "python",
   "nbconvert_exporter": "python",
   "pygments_lexer": "ipython3",
   "version": "3.10.8"
  }
 },
 "nbformat": 4,
 "nbformat_minor": 5
}
